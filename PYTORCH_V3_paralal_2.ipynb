{
 "cells": [
  {
   "cell_type": "code",
   "execution_count": null,
   "metadata": {},
   "outputs": [],
   "source": []
  },
  {
   "cell_type": "code",
   "execution_count": 1,
   "metadata": {},
   "outputs": [],
   "source": [
    "# df =pd.read_csv('raw_4M_20m_pt_data_with_sprade.csv')\n",
    "# #convert all negative values to positive\n",
    "# df['buy_highest_loss_spread'] = df['buy_highest_loss_spread'].abs()\n",
    "# df['sell_highest_loss_spread'] = df['sell_highest_loss_spread'].abs()\n",
    "# df.to_csv('raw_4M_20m_pt_data_with_sprade.csv', index=False)"
   ]
  },
  {
   "cell_type": "code",
   "execution_count": 2,
   "metadata": {},
   "outputs": [
    {
     "name": "stderr",
     "output_type": "stream",
     "text": [
      "c:\\Users\\rifat\\miniconda3\\envs\\tf\\lib\\site-packages\\tqdm\\auto.py:21: TqdmWarning: IProgress not found. Please update jupyter and ipywidgets. See https://ipywidgets.readthedocs.io/en/stable/user_install.html\n",
      "  from .autonotebook import tqdm as notebook_tqdm\n"
     ]
    }
   ],
   "source": [
    "# Import Libraries\n",
    "import torch\n",
    "import torchvision.transforms as transforms\n",
    "import torchvision.datasets as datasets\n",
    "import torchvision.models as models\n",
    "import torch.nn as nn\n",
    "import torch.optim as optim\n",
    "import numpy as np\n",
    "from PIL import Image\n",
    "import numpy as np\n",
    "import matplotlib.pyplot as plt\n",
    "import torch.optim as optim\n",
    "from torch.utils.data import DataLoader\n",
    "from torch.utils.tensorboard import SummaryWriter\n",
    "import optuna\n",
    "import pandas as pd\n",
    "import matplotlib.pyplot as plt\n",
    "import torch \n",
    "import torch.nn as nn \n",
    "import tqdm\n",
    "from torch.utils.data import DataLoader,Dataset\n",
    "from sklearn.model_selection import train_test_split\n",
    "\n",
    "from torch.utils.data.sampler import Sampler\n",
    "\n",
    "\n",
    "data = pd.read_csv('raw_4M_20m_pt_data_with_sprade.csv')\n",
    "#train test val split do not randomize the data because it is a time series forex data\n",
    "train = data[:int(0.8*len(data))]\n",
    "val = data[int(0.8*len(data)):int(0.9*len(data))]\n",
    "test = data[int(0.9*len(data)):]\n",
    "\n",
    "\n",
    "# in the train data define the x and y(train and target)\n",
    "x_train = train['Close']\n",
    "y_train_1 = train['buy_open_holding']\n",
    "y_train_2 = train['sell_open_holding']\n",
    "y_train_3 = train['buy_spread']\n",
    "y_train_4 = train['sell_spread']\n",
    "#take positive true vale of buy_highest_loss_spread\n",
    "y_train_5 = train['buy_highest_loss_spread'].abs()\n",
    "y_train_6 = train['sell_highest_loss_spread'].abs()\n",
    "# each loop i will pass preious 24 candales of data and has to predict theif to buy or sell or do nothing if buy or sell then how long to hold or when to close the trade\n",
    "\n",
    "\n",
    "\n",
    "\n",
    "\n",
    "class ForexDataset(Dataset):\n",
    "    def __init__(self, data, sequence_length=256):\n",
    "        self.data = data\n",
    "        self.sequence_length = sequence_length\n",
    "\n",
    "    def __len__(self):\n",
    "        return len(self.data) - self.sequence_length\n",
    "\n",
    "    def __getitem__(self, idx):\n",
    "            \n",
    "        # Extract sequences of length 'sequence_length' for input features\n",
    "        x_sequence = torch.tensor(self.data['Close'].values[idx:idx + self.sequence_length], dtype=torch.float32)\n",
    "\n",
    "        # Target labels (buy, sell, hold)\n",
    "        y_buy = torch.tensor(self.data['buy_open_holding'].values[idx + self.sequence_length], dtype=torch.float32)\n",
    "        # print('buy ',y_buy)        \n",
    "\n",
    "        y_sell = torch.tensor(self.data['sell_open_holding'].values[idx + self.sequence_length], dtype=torch.float32)\n",
    "    \n",
    "        # y_buy_spread = torch.tensor(self.data['buy_spread'].values[idx + self.sequence_length], dtype=torch.float32)\n",
    "        # y_sell_spread = torch.tensor(self.data['sell_spread'].values[idx + self.sequence_length], dtype=torch.float32)\n",
    "        # y_buy_highest_loss_spread = torch.tensor(self.data['buy_highest_loss_spread'].values[idx + self.sequence_length], dtype=torch.float32)\n",
    "        # y_sell_highest_loss_spread = torch.tensor(self.data['sell_highest_loss_spread'].values[idx + self.sequence_length], dtype=torch.float32)\n",
    "        # y_sequence = torch.stack([y_buy, y_sell, y_buy_spread, y_sell_spread, y_buy_highest_loss_spread, y_sell_highest_loss_spread])\n",
    "\n",
    "        y_sequence = torch.stack([y_buy, y_sell])\n",
    "\n",
    "\n",
    "        return x_sequence, y_sequence\n",
    "    \n",
    "\n",
    "\n",
    "class PositiveSampleRatioSampler(Sampler):\n",
    "    def __init__(self, dataset, batch_size, positive_ratio=0.5):\n",
    "        self.dataset = dataset\n",
    "        self.batch_size = batch_size\n",
    "        self.positive_ratio = positive_ratio\n",
    "\n",
    "    def __iter__(self): \n",
    "        positive_idx = []\n",
    "        negative_idx = []\n",
    "\n",
    "        # Iterate through all samples in the dataset\n",
    "        for idx in range(len(self.dataset)):\n",
    "            x, y = self.dataset[idx]\n",
    "\n",
    "            buy_y = y[0]\n",
    "            sell_y = y[1]\n",
    "            # buy_spread_y = y[2]\n",
    "            # sell_spread_y = y[3]\n",
    "            # buy_highest_loss_spread_y = y[4]\n",
    "            # sell_highest_loss_spread_y = y[5]\n",
    "\n",
    "            # If the target label is 'buy' or 'sell', add the sample index to the positive list\n",
    "            if buy_y > 0 or sell_y > 0:\n",
    "                positive_idx.append(idx)\n",
    "            else:\n",
    "                negative_idx.append(idx)\n",
    "\n",
    "        # Calculate the number of positive samples to include in each batch\n",
    "        num_positive = int(self.batch_size * self.positive_ratio)\n",
    "        num_negative = self.batch_size - num_positive\n",
    "\n",
    "        # Randomly sample positive indices\n",
    "        positive_samples = torch.randperm(len(positive_idx))[:num_positive].tolist()\n",
    "        # Randomly sample negative indices\n",
    "        negative_samples = torch.randperm(len(negative_idx))[:num_negative].tolist()\n",
    "\n",
    "        # Combine positive and negative samples\n",
    "        batch_indices = positive_samples + negative_samples\n",
    "\n",
    "        return iter(batch_indices)\n",
    "\n",
    "    def __len__(self):\n",
    "        return len(self.dataset)        \n",
    "\n",
    "\n",
    "LR = 0.00022528492132355385\n",
    "BATCH_SIZE = 64\n",
    "EPOCHS = 300\n",
    "\n",
    "\n",
    "# Assuming 'train', 'val', and 'test' are your data splits\n",
    "train_dataset = ForexDataset(train)\n",
    "val_dataset = ForexDataset(val)\n",
    "test_dataset = ForexDataset(test)\n",
    "\n",
    "# Define batch size\n",
    "batch_size = BATCH_SIZE\n",
    "\n",
    "\n",
    "\n",
    "\n",
    "\n",
    "\n",
    "\n",
    "# Create PositiveSampleRatioSampler for training data\n",
    "train_sampler = PositiveSampleRatioSampler(train_dataset, batch_size, positive_ratio=0.5)\n",
    "\n",
    "# Create DataLoader instances using the custom sampler\n",
    "train_loader = DataLoader(train_dataset, batch_size=batch_size, sampler=train_sampler)\n",
    "\n",
    "\n",
    "\n",
    "\n",
    "\n",
    "\n",
    "\n",
    "\n",
    "\n",
    "\n",
    "\n",
    "\n",
    "# Create DataLoader instances\n",
    "val_loader = DataLoader(val_dataset, batch_size=batch_size, shuffle=False)\n",
    "test_loader = DataLoader(test_dataset, batch_size=batch_size, shuffle=False)\n",
    "\n",
    "\n",
    "# Define Optimizer and Loss Function\n",
    "writer = SummaryWriter()\n",
    "device = torch.device('cuda' if torch.cuda.is_available() else 'cpu')\n",
    "\n",
    "\n",
    "\n",
    "# model = nn.Sequential(\n",
    "#     nn.Linear(in_features=256, out_features=1024),\n",
    "#     nn.BatchNorm1d(1024),   # Batch Normalization\n",
    "#     nn.ReLU(),\n",
    "#     nn.Dropout(p=0.2),\n",
    "#     nn.Linear(in_features=1024, out_features=512),\n",
    "#     nn.BatchNorm1d(512),    # Batch Normalization\n",
    "#     nn.ReLU(),\n",
    "#     nn.Dropout(p=0.2),\n",
    "#     nn.Linear(in_features=512, out_features=256),\n",
    "#     nn.BatchNorm1d(256),    # Batch Normalization\n",
    "#     nn.ReLU(),\n",
    "#     nn.Dropout(p=0.2),\n",
    "#     nn.Linear(in_features=256, out_features=2)\n",
    "# )\n",
    "\n",
    "# model = nn.Sequential(\n",
    "#     nn.Conv1d(in_channels=256, out_channels=1024, kernel_size=3),\n",
    "#     nn.BatchNorm1d(1024),   # Batch Normalization\n",
    "#     nn.ReLU(),\n",
    "#     nn.Dropout(p=0.2),\n",
    "#     nn.Conv1d(in_channels=1024, out_channels=512, kernel_size=3),\n",
    "#     nn.BatchNorm1d(512),    # Batch Normalization\n",
    "#     nn.ReLU(),\n",
    "#     nn.Dropout(p=0.2),\n",
    "#     nn.Conv1d(in_channels=512, out_channels=256, kernel_size=3),\n",
    "#     nn.BatchNorm1d(256),    # Batch Normalization\n",
    "#     nn.ReLU(),\n",
    "#     nn.Dropout(p=0.2),\n",
    "#     nn.Flatten(),\n",
    "#     nn.Linear(in_features=256, out_features=2)\n",
    "# )\n",
    "\n",
    "\n",
    "model = nn.Sequential(\n",
    "    nn.Conv1d(in_channels=1, out_channels=1024, kernel_size=3),\n",
    "    nn.BatchNorm1d(1024),   # Batch Normalization\n",
    "    nn.ReLU(),\n",
    "    nn.Dropout(p=0.2),\n",
    "    nn.Conv1d(in_channels=1024, out_channels=512, kernel_size=3),\n",
    "    nn.BatchNorm1d(512),    # Batch Normalization\n",
    "    nn.ReLU(),\n",
    "    nn.Dropout(p=0.2),\n",
    "    nn.Conv1d(in_channels=512, out_channels=256, kernel_size=3),\n",
    "    nn.BatchNorm1d(256),    # Batch Normalization\n",
    "    nn.ReLU(),\n",
    "    nn.Dropout(p=0.2),\n",
    "    nn.Flatten(),\n",
    "    nn.Linear(in_features=64000, out_features=2)\n",
    ")\n",
    "\n",
    "\n",
    "# model = nn.Sequential(\n",
    "#     nn.Conv1d(in_channels=1, out_channels=1024, kernel_size=3),\n",
    "#     nn.BatchNorm1d(1024),   # Batch Normalization\n",
    "#     nn.ReLU(),\n",
    "#     nn.Dropout(p=0.2),\n",
    "#     nn.Conv1d(in_channels=1024, out_channels=512, kernel_size=3),\n",
    "#     nn.BatchNorm1d(512),    # Batch Normalization\n",
    "#     nn.ReLU(),\n",
    "#     nn.Dropout(p=0.2),\n",
    "#     nn.Conv1d(in_channels=512, out_channels=1, kernel_size=3),\n",
    "#     nn.BatchNorm1d(1),    # Batch Normalization\n",
    "#     nn.ReLU(),\n",
    "#     nn.Dropout(p=0.2),\n",
    "#     nn.Flatten(),\n",
    "#     nn.Linear(in_features=250, out_features=2)\n",
    "\n",
    "\n",
    "\n",
    "\n",
    "    \n",
    "# )\n",
    "\n",
    "\n",
    "model = model.to(device)\n",
    "\n",
    "\n",
    "\n",
    "\n",
    "\n",
    "\n",
    "\n",
    "# #load the model\n",
    "model.load_state_dict(torch.load('model_pytorch_paralal_6_conv_45.pt'))\n",
    "\n",
    "\n",
    "optimizer = optim.Adam(model.parameters(), lr=LR)\n",
    "loss_fn = nn.MSELoss(reduction='mean')\n",
    "\n",
    "\n",
    "\n"
   ]
  },
  {
   "cell_type": "code",
   "execution_count": 3,
   "metadata": {},
   "outputs": [],
   "source": [
    "# model = nn.Sequential(\n",
    "#     nn.Conv1d(in_channels=1, out_channels=1024, kernel_size=3),\n",
    "#     nn.BatchNorm1d(1024),   # Batch Normalization\n",
    "#     nn.ReLU(),\n",
    "#     nn.Dropout(p=0.2),\n",
    "#     nn.Conv1d(in_channels=1024, out_channels=512, kernel_size=3),\n",
    "#     nn.BatchNorm1d(512),    # Batch Normalization\n",
    "#     nn.ReLU(),\n",
    "#     nn.Dropout(p=0.2),\n",
    "#     nn.Conv1d(in_channels=512, out_channels=256, kernel_size=3),\n",
    "#     nn.BatchNorm1d(256),    # Batch Normalization\n",
    "#     nn.ReLU(),\n",
    "#     nn.Dropout(p=0.2),\n",
    "#     nn.Flatten(),\n",
    "#     nn.Linear(in_features=64000, out_features=2)\n",
    "# )\n",
    "\n",
    "\n",
    "# x = torch.randn(1, 1, 256)\n",
    "# print(x.shape)\n",
    "# print(model(x).shape)\n"
   ]
  },
  {
   "cell_type": "code",
   "execution_count": 4,
   "metadata": {},
   "outputs": [],
   "source": [
    "# device = torch.device('cuda' if torch.cuda.is_available() else 'cpu')"
   ]
  },
  {
   "cell_type": "code",
   "execution_count": 5,
   "metadata": {},
   "outputs": [],
   "source": [
    "# from torchinfo import summary\n",
    "# summary(model, input_size=(1,1, 256), device=device)"
   ]
  },
  {
   "cell_type": "code",
   "execution_count": 6,
   "metadata": {},
   "outputs": [],
   "source": [
    "# model = nn.Sequential(\n",
    "#     nn.Conv1d(in_channels=1, out_channels=1024, kernel_size=3),\n",
    "#     nn.BatchNorm1d(1024),   # Batch Normalization\n",
    "#     nn.ReLU(),\n",
    "#     nn.Dropout(p=0.2),\n",
    "#     nn.Conv1d(in_channels=1024, out_channels=512, kernel_size=3),\n",
    "#     nn.BatchNorm1d(512),    # Batch Normalization\n",
    "#     nn.ReLU(),\n",
    "#     nn.Dropout(p=0.2),\n",
    "#     nn.Conv1d(in_channels=512, out_channels=1, kernel_size=3),\n",
    "#     nn.BatchNorm1d(1),    # Batch Normalization\n",
    "#     nn.ReLU(),\n",
    "#     nn.Dropout(p=0.2),\n",
    "#     nn.Flatten(),\n",
    "#     nn.Linear(in_features=250, out_features=2)\n",
    "\n",
    "\n",
    "\n",
    "\n",
    "    \n",
    "# )\n",
    "\n",
    "\n",
    "# x = torch.randn(1, 1, 256)\n",
    "# print(x.shape)\n",
    "# print(model(x).shape)\n"
   ]
  },
  {
   "cell_type": "code",
   "execution_count": 7,
   "metadata": {},
   "outputs": [],
   "source": [
    "# from torchinfo import summary\n",
    "# summary(model, input_size=(1,1, 256), device=device)"
   ]
  },
  {
   "cell_type": "code",
   "execution_count": 8,
   "metadata": {},
   "outputs": [
    {
     "name": "stderr",
     "output_type": "stream",
     "text": [
      "  0%|          | 1/300 [04:40<23:19:35, 280.85s/it]"
     ]
    },
    {
     "name": "stdout",
     "output_type": "stream",
     "text": [
      "Epoch: 1/300, Train Loss: 89.0736, Val Loss: 113.4933\n"
     ]
    },
    {
     "name": "stderr",
     "output_type": "stream",
     "text": [
      "  1%|          | 2/300 [09:26<23:27:49, 283.46s/it]"
     ]
    },
    {
     "name": "stdout",
     "output_type": "stream",
     "text": [
      "Epoch: 2/300, Train Loss: 97.3907, Val Loss: 117.4215\n"
     ]
    },
    {
     "name": "stderr",
     "output_type": "stream",
     "text": [
      "  1%|          | 3/300 [14:19<23:45:23, 287.96s/it]"
     ]
    },
    {
     "name": "stdout",
     "output_type": "stream",
     "text": [
      "Epoch: 3/300, Train Loss: 90.0585, Val Loss: 108.4318\n"
     ]
    },
    {
     "name": "stderr",
     "output_type": "stream",
     "text": [
      "  1%|▏         | 4/300 [19:18<24:02:37, 292.42s/it]"
     ]
    },
    {
     "name": "stdout",
     "output_type": "stream",
     "text": [
      "Epoch: 4/300, Train Loss: 99.0668, Val Loss: 95.1688\n"
     ]
    },
    {
     "name": "stderr",
     "output_type": "stream",
     "text": [
      "  2%|▏         | 5/300 [24:12<24:00:54, 293.07s/it]"
     ]
    },
    {
     "name": "stdout",
     "output_type": "stream",
     "text": [
      "Epoch: 5/300, Train Loss: 87.0511, Val Loss: 138.6434\n"
     ]
    },
    {
     "name": "stderr",
     "output_type": "stream",
     "text": [
      "  2%|▏         | 6/300 [29:05<23:55:06, 292.88s/it]"
     ]
    },
    {
     "name": "stdout",
     "output_type": "stream",
     "text": [
      "Epoch: 6/300, Train Loss: 78.5485, Val Loss: 206.7210\n"
     ]
    },
    {
     "name": "stderr",
     "output_type": "stream",
     "text": [
      "  2%|▏         | 7/300 [33:58<23:50:11, 292.87s/it]"
     ]
    },
    {
     "name": "stdout",
     "output_type": "stream",
     "text": [
      "Epoch: 7/300, Train Loss: 82.6194, Val Loss: 224.6519\n"
     ]
    },
    {
     "name": "stderr",
     "output_type": "stream",
     "text": [
      "  3%|▎         | 8/300 [38:52<23:47:59, 293.42s/it]"
     ]
    },
    {
     "name": "stdout",
     "output_type": "stream",
     "text": [
      "Epoch: 8/300, Train Loss: 89.1717, Val Loss: 152.8515\n"
     ]
    },
    {
     "name": "stderr",
     "output_type": "stream",
     "text": [
      "  3%|▎         | 9/300 [43:47<23:44:26, 293.70s/it]"
     ]
    },
    {
     "name": "stdout",
     "output_type": "stream",
     "text": [
      "Epoch: 9/300, Train Loss: 78.0330, Val Loss: 102.2231\n"
     ]
    },
    {
     "name": "stderr",
     "output_type": "stream",
     "text": [
      "  3%|▎         | 10/300 [48:45<23:46:09, 295.07s/it]"
     ]
    },
    {
     "name": "stdout",
     "output_type": "stream",
     "text": [
      "Epoch: 10/300, Train Loss: 80.5091, Val Loss: 82.0821\n"
     ]
    },
    {
     "name": "stderr",
     "output_type": "stream",
     "text": [
      "  4%|▎         | 11/300 [53:35<23:33:38, 293.49s/it]"
     ]
    },
    {
     "name": "stdout",
     "output_type": "stream",
     "text": [
      "Epoch: 11/300, Train Loss: 84.9892, Val Loss: 83.4456\n"
     ]
    },
    {
     "name": "stderr",
     "output_type": "stream",
     "text": [
      "  4%|▍         | 12/300 [58:11<23:03:51, 288.30s/it]"
     ]
    },
    {
     "name": "stdout",
     "output_type": "stream",
     "text": [
      "Epoch: 12/300, Train Loss: 80.7916, Val Loss: 85.3604\n"
     ]
    },
    {
     "name": "stderr",
     "output_type": "stream",
     "text": [
      "  4%|▍         | 13/300 [1:02:58<22:56:47, 287.83s/it]"
     ]
    },
    {
     "name": "stdout",
     "output_type": "stream",
     "text": [
      "Epoch: 13/300, Train Loss: 78.5448, Val Loss: 84.6326\n"
     ]
    },
    {
     "name": "stderr",
     "output_type": "stream",
     "text": [
      "  5%|▍         | 14/300 [1:07:55<23:05:12, 290.60s/it]"
     ]
    },
    {
     "name": "stdout",
     "output_type": "stream",
     "text": [
      "Epoch: 14/300, Train Loss: 82.4471, Val Loss: 82.3604\n"
     ]
    },
    {
     "name": "stderr",
     "output_type": "stream",
     "text": [
      "  5%|▌         | 15/300 [1:12:44<22:57:48, 290.07s/it]"
     ]
    },
    {
     "name": "stdout",
     "output_type": "stream",
     "text": [
      "Epoch: 15/300, Train Loss: 73.9027, Val Loss: 82.6057\n"
     ]
    },
    {
     "name": "stderr",
     "output_type": "stream",
     "text": [
      "  5%|▌         | 16/300 [1:17:35<22:54:57, 290.48s/it]"
     ]
    },
    {
     "name": "stdout",
     "output_type": "stream",
     "text": [
      "Epoch: 16/300, Train Loss: 86.8448, Val Loss: 82.6662\n"
     ]
    },
    {
     "name": "stderr",
     "output_type": "stream",
     "text": [
      "  6%|▌         | 17/300 [1:33:49<38:58:52, 495.87s/it]"
     ]
    },
    {
     "name": "stdout",
     "output_type": "stream",
     "text": [
      "Epoch: 17/300, Train Loss: 86.0203, Val Loss: 83.5006\n"
     ]
    },
    {
     "name": "stderr",
     "output_type": "stream",
     "text": [
      "  6%|▌         | 18/300 [1:38:27<33:43:03, 430.44s/it]"
     ]
    },
    {
     "name": "stdout",
     "output_type": "stream",
     "text": [
      "Epoch: 18/300, Train Loss: 77.9974, Val Loss: 93.6747\n"
     ]
    },
    {
     "name": "stderr",
     "output_type": "stream",
     "text": [
      "  6%|▋         | 19/300 [1:43:01<29:55:25, 383.36s/it]"
     ]
    },
    {
     "name": "stdout",
     "output_type": "stream",
     "text": [
      "Epoch: 19/300, Train Loss: 71.9483, Val Loss: 113.1530\n"
     ]
    },
    {
     "name": "stderr",
     "output_type": "stream",
     "text": [
      "  7%|▋         | 20/300 [1:47:31<27:10:45, 349.45s/it]"
     ]
    },
    {
     "name": "stdout",
     "output_type": "stream",
     "text": [
      "Epoch: 20/300, Train Loss: 81.0157, Val Loss: 145.0641\n"
     ]
    },
    {
     "name": "stderr",
     "output_type": "stream",
     "text": [
      "  7%|▋         | 21/300 [1:52:03<25:16:50, 326.20s/it]"
     ]
    },
    {
     "name": "stdout",
     "output_type": "stream",
     "text": [
      "Epoch: 21/300, Train Loss: 82.0968, Val Loss: 176.8985\n"
     ]
    },
    {
     "name": "stderr",
     "output_type": "stream",
     "text": [
      "  7%|▋         | 22/300 [1:56:33<23:53:31, 309.39s/it]"
     ]
    },
    {
     "name": "stdout",
     "output_type": "stream",
     "text": [
      "Epoch: 22/300, Train Loss: 80.0034, Val Loss: 210.8180\n"
     ]
    },
    {
     "name": "stderr",
     "output_type": "stream",
     "text": [
      "  8%|▊         | 23/300 [2:01:06<22:57:05, 298.29s/it]"
     ]
    },
    {
     "name": "stdout",
     "output_type": "stream",
     "text": [
      "Epoch: 23/300, Train Loss: 83.0237, Val Loss: 242.7340\n"
     ]
    },
    {
     "name": "stderr",
     "output_type": "stream",
     "text": [
      "  8%|▊         | 24/300 [2:05:37<22:14:32, 290.12s/it]"
     ]
    },
    {
     "name": "stdout",
     "output_type": "stream",
     "text": [
      "Epoch: 24/300, Train Loss: 84.7477, Val Loss: 234.8538\n"
     ]
    },
    {
     "name": "stderr",
     "output_type": "stream",
     "text": [
      "  8%|▊         | 25/300 [2:10:10<21:47:21, 285.24s/it]"
     ]
    },
    {
     "name": "stdout",
     "output_type": "stream",
     "text": [
      "Epoch: 25/300, Train Loss: 78.7895, Val Loss: 209.6108\n"
     ]
    },
    {
     "name": "stderr",
     "output_type": "stream",
     "text": [
      "  9%|▊         | 26/300 [2:14:43<21:24:36, 281.30s/it]"
     ]
    },
    {
     "name": "stdout",
     "output_type": "stream",
     "text": [
      "Epoch: 26/300, Train Loss: 76.7938, Val Loss: 201.0560\n"
     ]
    },
    {
     "name": "stderr",
     "output_type": "stream",
     "text": [
      "  9%|▉         | 27/300 [2:19:12<21:03:33, 277.71s/it]"
     ]
    },
    {
     "name": "stdout",
     "output_type": "stream",
     "text": [
      "Epoch: 27/300, Train Loss: 83.2481, Val Loss: 161.3239\n"
     ]
    },
    {
     "name": "stderr",
     "output_type": "stream",
     "text": [
      "  9%|▉         | 28/300 [2:23:42<20:48:17, 275.36s/it]"
     ]
    },
    {
     "name": "stdout",
     "output_type": "stream",
     "text": [
      "Epoch: 28/300, Train Loss: 82.6320, Val Loss: 134.0222\n"
     ]
    },
    {
     "name": "stderr",
     "output_type": "stream",
     "text": [
      " 10%|▉         | 29/300 [2:28:11<20:36:03, 273.67s/it]"
     ]
    },
    {
     "name": "stdout",
     "output_type": "stream",
     "text": [
      "Epoch: 29/300, Train Loss: 81.3144, Val Loss: 119.5163\n"
     ]
    },
    {
     "name": "stderr",
     "output_type": "stream",
     "text": [
      " 10%|█         | 30/300 [2:32:39<20:23:01, 271.78s/it]"
     ]
    },
    {
     "name": "stdout",
     "output_type": "stream",
     "text": [
      "Epoch: 30/300, Train Loss: 79.1841, Val Loss: 110.1543\n"
     ]
    },
    {
     "name": "stderr",
     "output_type": "stream",
     "text": [
      " 10%|█         | 31/300 [2:37:08<20:14:46, 270.96s/it]"
     ]
    },
    {
     "name": "stdout",
     "output_type": "stream",
     "text": [
      "Epoch: 31/300, Train Loss: 78.9342, Val Loss: 102.1991\n"
     ]
    },
    {
     "name": "stderr",
     "output_type": "stream",
     "text": [
      " 11%|█         | 32/300 [2:41:40<20:12:27, 271.45s/it]"
     ]
    },
    {
     "name": "stdout",
     "output_type": "stream",
     "text": [
      "Epoch: 32/300, Train Loss: 82.0743, Val Loss: 95.0831\n"
     ]
    },
    {
     "name": "stderr",
     "output_type": "stream",
     "text": [
      " 11%|█         | 33/300 [2:46:09<20:03:44, 270.50s/it]"
     ]
    },
    {
     "name": "stdout",
     "output_type": "stream",
     "text": [
      "Epoch: 33/300, Train Loss: 77.0432, Val Loss: 92.5495\n"
     ]
    },
    {
     "name": "stderr",
     "output_type": "stream",
     "text": [
      " 11%|█▏        | 34/300 [2:50:40<19:59:52, 270.65s/it]"
     ]
    },
    {
     "name": "stdout",
     "output_type": "stream",
     "text": [
      "Epoch: 34/300, Train Loss: 77.9657, Val Loss: 91.4985\n"
     ]
    },
    {
     "name": "stderr",
     "output_type": "stream",
     "text": [
      " 12%|█▏        | 35/300 [2:55:09<19:53:38, 270.26s/it]"
     ]
    },
    {
     "name": "stdout",
     "output_type": "stream",
     "text": [
      "Epoch: 35/300, Train Loss: 85.1152, Val Loss: 90.2880\n"
     ]
    },
    {
     "name": "stderr",
     "output_type": "stream",
     "text": [
      " 12%|█▏        | 36/300 [2:59:38<19:47:06, 269.80s/it]"
     ]
    },
    {
     "name": "stdout",
     "output_type": "stream",
     "text": [
      "Epoch: 36/300, Train Loss: 93.0941, Val Loss: 87.8301\n"
     ]
    },
    {
     "name": "stderr",
     "output_type": "stream",
     "text": [
      " 12%|█▏        | 37/300 [3:04:10<19:45:19, 270.42s/it]"
     ]
    },
    {
     "name": "stdout",
     "output_type": "stream",
     "text": [
      "Epoch: 37/300, Train Loss: 84.5285, Val Loss: 87.7688\n"
     ]
    },
    {
     "name": "stderr",
     "output_type": "stream",
     "text": [
      " 13%|█▎        | 38/300 [3:08:39<19:39:05, 270.02s/it]"
     ]
    },
    {
     "name": "stdout",
     "output_type": "stream",
     "text": [
      "Epoch: 38/300, Train Loss: 81.6990, Val Loss: 88.6998\n"
     ]
    },
    {
     "name": "stderr",
     "output_type": "stream",
     "text": [
      " 13%|█▎        | 39/300 [3:13:09<19:34:41, 270.04s/it]"
     ]
    },
    {
     "name": "stdout",
     "output_type": "stream",
     "text": [
      "Epoch: 39/300, Train Loss: 83.7878, Val Loss: 91.0180\n"
     ]
    },
    {
     "name": "stderr",
     "output_type": "stream",
     "text": [
      " 13%|█▎        | 40/300 [3:17:36<19:25:53, 269.05s/it]"
     ]
    },
    {
     "name": "stdout",
     "output_type": "stream",
     "text": [
      "Epoch: 40/300, Train Loss: 82.7965, Val Loss: 93.5338\n"
     ]
    },
    {
     "name": "stderr",
     "output_type": "stream",
     "text": [
      " 14%|█▎        | 41/300 [3:22:05<19:22:18, 269.26s/it]"
     ]
    },
    {
     "name": "stdout",
     "output_type": "stream",
     "text": [
      "Epoch: 41/300, Train Loss: 85.3978, Val Loss: 95.0658\n"
     ]
    },
    {
     "name": "stderr",
     "output_type": "stream",
     "text": [
      " 14%|█▍        | 42/300 [3:26:33<19:15:17, 268.67s/it]"
     ]
    },
    {
     "name": "stdout",
     "output_type": "stream",
     "text": [
      "Epoch: 42/300, Train Loss: 88.7882, Val Loss: 97.0421\n"
     ]
    },
    {
     "name": "stderr",
     "output_type": "stream",
     "text": [
      " 14%|█▍        | 43/300 [3:31:05<19:15:00, 269.65s/it]"
     ]
    },
    {
     "name": "stdout",
     "output_type": "stream",
     "text": [
      "Epoch: 43/300, Train Loss: 79.7039, Val Loss: 98.5463\n"
     ]
    },
    {
     "name": "stderr",
     "output_type": "stream",
     "text": [
      " 15%|█▍        | 44/300 [3:35:32<19:07:46, 269.01s/it]"
     ]
    },
    {
     "name": "stdout",
     "output_type": "stream",
     "text": [
      "Epoch: 44/300, Train Loss: 79.5904, Val Loss: 93.0911\n"
     ]
    },
    {
     "name": "stderr",
     "output_type": "stream",
     "text": [
      " 15%|█▌        | 45/300 [3:40:05<19:08:31, 270.24s/it]"
     ]
    },
    {
     "name": "stdout",
     "output_type": "stream",
     "text": [
      "Epoch: 45/300, Train Loss: 75.6826, Val Loss: 89.9389\n"
     ]
    },
    {
     "name": "stderr",
     "output_type": "stream",
     "text": [
      " 15%|█▌        | 46/300 [3:44:34<19:02:00, 269.77s/it]"
     ]
    },
    {
     "name": "stdout",
     "output_type": "stream",
     "text": [
      "Epoch: 46/300, Train Loss: 82.6321, Val Loss: 84.9318\n"
     ]
    },
    {
     "name": "stderr",
     "output_type": "stream",
     "text": [
      " 16%|█▌        | 47/300 [3:49:06<19:00:21, 270.44s/it]"
     ]
    },
    {
     "name": "stdout",
     "output_type": "stream",
     "text": [
      "Epoch: 47/300, Train Loss: 85.8028, Val Loss: 80.5572\n"
     ]
    },
    {
     "name": "stderr",
     "output_type": "stream",
     "text": [
      " 16%|█▌        | 48/300 [3:53:33<18:51:39, 269.44s/it]"
     ]
    },
    {
     "name": "stdout",
     "output_type": "stream",
     "text": [
      "Epoch: 48/300, Train Loss: 73.8848, Val Loss: 80.1451\n"
     ]
    },
    {
     "name": "stderr",
     "output_type": "stream",
     "text": [
      " 16%|█▋        | 49/300 [3:58:01<18:45:55, 269.14s/it]"
     ]
    },
    {
     "name": "stdout",
     "output_type": "stream",
     "text": [
      "Epoch: 49/300, Train Loss: 82.4672, Val Loss: 80.6887\n"
     ]
    },
    {
     "name": "stderr",
     "output_type": "stream",
     "text": [
      " 17%|█▋        | 50/300 [4:02:33<18:44:32, 269.89s/it]"
     ]
    },
    {
     "name": "stdout",
     "output_type": "stream",
     "text": [
      "Epoch: 50/300, Train Loss: 81.2698, Val Loss: 81.0580\n"
     ]
    },
    {
     "name": "stderr",
     "output_type": "stream",
     "text": [
      " 17%|█▋        | 51/300 [4:07:05<18:42:57, 270.59s/it]"
     ]
    },
    {
     "name": "stdout",
     "output_type": "stream",
     "text": [
      "Epoch: 51/300, Train Loss: 70.4735, Val Loss: 81.4517\n"
     ]
    },
    {
     "name": "stderr",
     "output_type": "stream",
     "text": [
      " 17%|█▋        | 52/300 [4:11:39<18:42:43, 271.63s/it]"
     ]
    },
    {
     "name": "stdout",
     "output_type": "stream",
     "text": [
      "Epoch: 52/300, Train Loss: 80.6760, Val Loss: 80.6582\n"
     ]
    },
    {
     "name": "stderr",
     "output_type": "stream",
     "text": [
      " 18%|█▊        | 53/300 [4:16:10<18:36:29, 271.21s/it]"
     ]
    },
    {
     "name": "stdout",
     "output_type": "stream",
     "text": [
      "Epoch: 53/300, Train Loss: 77.3051, Val Loss: 79.6864\n"
     ]
    },
    {
     "name": "stderr",
     "output_type": "stream",
     "text": [
      " 18%|█▊        | 54/300 [4:20:42<18:32:48, 271.42s/it]"
     ]
    },
    {
     "name": "stdout",
     "output_type": "stream",
     "text": [
      "Epoch: 54/300, Train Loss: 79.1724, Val Loss: 80.0928\n"
     ]
    },
    {
     "name": "stderr",
     "output_type": "stream",
     "text": [
      " 18%|█▊        | 55/300 [4:25:18<18:34:00, 272.82s/it]"
     ]
    },
    {
     "name": "stdout",
     "output_type": "stream",
     "text": [
      "Epoch: 55/300, Train Loss: 80.1802, Val Loss: 81.1745\n"
     ]
    },
    {
     "name": "stderr",
     "output_type": "stream",
     "text": [
      " 19%|█▊        | 56/300 [4:29:50<18:28:51, 272.67s/it]"
     ]
    },
    {
     "name": "stdout",
     "output_type": "stream",
     "text": [
      "Epoch: 56/300, Train Loss: 80.1516, Val Loss: 81.6211\n"
     ]
    },
    {
     "name": "stderr",
     "output_type": "stream",
     "text": [
      " 19%|█▉        | 57/300 [4:34:21<18:22:03, 272.11s/it]"
     ]
    },
    {
     "name": "stdout",
     "output_type": "stream",
     "text": [
      "Epoch: 57/300, Train Loss: 78.3737, Val Loss: 80.9962\n"
     ]
    },
    {
     "name": "stderr",
     "output_type": "stream",
     "text": [
      " 19%|█▉        | 58/300 [4:38:55<18:19:59, 272.72s/it]"
     ]
    },
    {
     "name": "stdout",
     "output_type": "stream",
     "text": [
      "Epoch: 58/300, Train Loss: 77.5783, Val Loss: 80.2600\n"
     ]
    },
    {
     "name": "stderr",
     "output_type": "stream",
     "text": [
      " 20%|█▉        | 59/300 [4:43:27<18:15:09, 272.66s/it]"
     ]
    },
    {
     "name": "stdout",
     "output_type": "stream",
     "text": [
      "Epoch: 59/300, Train Loss: 77.6564, Val Loss: 79.4505\n"
     ]
    },
    {
     "name": "stderr",
     "output_type": "stream",
     "text": [
      " 20%|██        | 60/300 [4:48:01<18:12:14, 273.06s/it]"
     ]
    },
    {
     "name": "stdout",
     "output_type": "stream",
     "text": [
      "Epoch: 60/300, Train Loss: 79.3932, Val Loss: 79.2359\n"
     ]
    },
    {
     "name": "stderr",
     "output_type": "stream",
     "text": [
      " 20%|██        | 61/300 [4:52:35<18:08:51, 273.35s/it]"
     ]
    },
    {
     "name": "stdout",
     "output_type": "stream",
     "text": [
      "Epoch: 61/300, Train Loss: 79.4181, Val Loss: 78.7367\n"
     ]
    },
    {
     "name": "stderr",
     "output_type": "stream",
     "text": [
      " 21%|██        | 62/300 [4:57:06<18:00:43, 272.45s/it]"
     ]
    },
    {
     "name": "stdout",
     "output_type": "stream",
     "text": [
      "Epoch: 62/300, Train Loss: 84.1244, Val Loss: 78.2905\n"
     ]
    },
    {
     "name": "stderr",
     "output_type": "stream",
     "text": [
      " 21%|██        | 63/300 [5:01:38<17:55:50, 272.36s/it]"
     ]
    },
    {
     "name": "stdout",
     "output_type": "stream",
     "text": [
      "Epoch: 63/300, Train Loss: 76.0224, Val Loss: 78.0290\n"
     ]
    },
    {
     "name": "stderr",
     "output_type": "stream",
     "text": [
      " 21%|██▏       | 64/300 [5:06:15<17:56:44, 273.75s/it]"
     ]
    },
    {
     "name": "stdout",
     "output_type": "stream",
     "text": [
      "Epoch: 64/300, Train Loss: 80.6760, Val Loss: 77.9781\n"
     ]
    },
    {
     "name": "stderr",
     "output_type": "stream",
     "text": [
      " 22%|██▏       | 65/300 [5:10:46<17:49:12, 272.99s/it]"
     ]
    },
    {
     "name": "stdout",
     "output_type": "stream",
     "text": [
      "Epoch: 65/300, Train Loss: 81.4249, Val Loss: 77.9291\n"
     ]
    },
    {
     "name": "stderr",
     "output_type": "stream",
     "text": [
      " 22%|██▏       | 66/300 [5:15:16<17:41:02, 272.06s/it]"
     ]
    },
    {
     "name": "stdout",
     "output_type": "stream",
     "text": [
      "Epoch: 66/300, Train Loss: 79.4954, Val Loss: 77.8578\n"
     ]
    },
    {
     "name": "stderr",
     "output_type": "stream",
     "text": [
      " 22%|██▏       | 67/300 [5:19:51<17:39:30, 272.83s/it]"
     ]
    },
    {
     "name": "stdout",
     "output_type": "stream",
     "text": [
      "Epoch: 67/300, Train Loss: 75.9267, Val Loss: 77.8835\n"
     ]
    },
    {
     "name": "stderr",
     "output_type": "stream",
     "text": [
      " 23%|██▎       | 68/300 [5:24:23<17:33:57, 272.57s/it]"
     ]
    },
    {
     "name": "stdout",
     "output_type": "stream",
     "text": [
      "Epoch: 68/300, Train Loss: 77.9144, Val Loss: 78.0502\n"
     ]
    },
    {
     "name": "stderr",
     "output_type": "stream",
     "text": [
      " 23%|██▎       | 69/300 [5:28:56<17:30:05, 272.75s/it]"
     ]
    },
    {
     "name": "stdout",
     "output_type": "stream",
     "text": [
      "Epoch: 69/300, Train Loss: 83.0695, Val Loss: 78.0880\n"
     ]
    },
    {
     "name": "stderr",
     "output_type": "stream",
     "text": [
      " 23%|██▎       | 70/300 [5:33:28<17:24:54, 272.58s/it]"
     ]
    },
    {
     "name": "stdout",
     "output_type": "stream",
     "text": [
      "Epoch: 70/300, Train Loss: 79.9932, Val Loss: 78.1588\n"
     ]
    },
    {
     "name": "stderr",
     "output_type": "stream",
     "text": [
      " 24%|██▎       | 71/300 [5:37:58<17:17:15, 271.77s/it]"
     ]
    },
    {
     "name": "stdout",
     "output_type": "stream",
     "text": [
      "Epoch: 71/300, Train Loss: 80.8594, Val Loss: 78.4912\n"
     ]
    },
    {
     "name": "stderr",
     "output_type": "stream",
     "text": [
      " 24%|██▍       | 72/300 [5:42:29<17:12:17, 271.66s/it]"
     ]
    },
    {
     "name": "stdout",
     "output_type": "stream",
     "text": [
      "Epoch: 72/300, Train Loss: 81.8605, Val Loss: 78.0325\n"
     ]
    },
    {
     "name": "stderr",
     "output_type": "stream",
     "text": [
      " 24%|██▍       | 73/300 [5:47:00<17:06:50, 271.41s/it]"
     ]
    },
    {
     "name": "stdout",
     "output_type": "stream",
     "text": [
      "Epoch: 73/300, Train Loss: 79.5365, Val Loss: 78.1913\n"
     ]
    },
    {
     "name": "stderr",
     "output_type": "stream",
     "text": [
      " 25%|██▍       | 74/300 [5:51:29<16:59:36, 270.69s/it]"
     ]
    },
    {
     "name": "stdout",
     "output_type": "stream",
     "text": [
      "Epoch: 74/300, Train Loss: 81.8841, Val Loss: 79.4140\n"
     ]
    },
    {
     "name": "stderr",
     "output_type": "stream",
     "text": [
      " 25%|██▌       | 75/300 [5:56:00<16:55:17, 270.74s/it]"
     ]
    },
    {
     "name": "stdout",
     "output_type": "stream",
     "text": [
      "Epoch: 75/300, Train Loss: 80.6593, Val Loss: 80.5566\n"
     ]
    },
    {
     "name": "stderr",
     "output_type": "stream",
     "text": [
      " 25%|██▌       | 76/300 [6:00:34<16:54:27, 271.73s/it]"
     ]
    },
    {
     "name": "stdout",
     "output_type": "stream",
     "text": [
      "Epoch: 76/300, Train Loss: 79.3313, Val Loss: 80.4081\n"
     ]
    },
    {
     "name": "stderr",
     "output_type": "stream",
     "text": [
      " 26%|██▌       | 77/300 [6:05:05<16:49:00, 271.48s/it]"
     ]
    },
    {
     "name": "stdout",
     "output_type": "stream",
     "text": [
      "Epoch: 77/300, Train Loss: 76.4521, Val Loss: 79.1938\n"
     ]
    },
    {
     "name": "stderr",
     "output_type": "stream",
     "text": [
      " 26%|██▌       | 78/300 [6:09:38<16:45:50, 271.85s/it]"
     ]
    },
    {
     "name": "stdout",
     "output_type": "stream",
     "text": [
      "Epoch: 78/300, Train Loss: 81.8100, Val Loss: 78.4795\n"
     ]
    },
    {
     "name": "stderr",
     "output_type": "stream",
     "text": [
      " 26%|██▋       | 79/300 [6:14:13<16:45:01, 272.86s/it]"
     ]
    },
    {
     "name": "stdout",
     "output_type": "stream",
     "text": [
      "Epoch: 79/300, Train Loss: 80.7148, Val Loss: 79.0524\n"
     ]
    },
    {
     "name": "stderr",
     "output_type": "stream",
     "text": [
      " 27%|██▋       | 80/300 [6:18:44<16:38:55, 272.43s/it]"
     ]
    },
    {
     "name": "stdout",
     "output_type": "stream",
     "text": [
      "Epoch: 80/300, Train Loss: 78.1485, Val Loss: 80.9452\n"
     ]
    },
    {
     "name": "stderr",
     "output_type": "stream",
     "text": [
      " 27%|██▋       | 81/300 [6:23:21<16:38:43, 273.62s/it]"
     ]
    },
    {
     "name": "stdout",
     "output_type": "stream",
     "text": [
      "Epoch: 81/300, Train Loss: 79.8747, Val Loss: 84.1962\n"
     ]
    },
    {
     "name": "stderr",
     "output_type": "stream",
     "text": [
      " 27%|██▋       | 82/300 [6:27:53<16:32:43, 273.23s/it]"
     ]
    },
    {
     "name": "stdout",
     "output_type": "stream",
     "text": [
      "Epoch: 82/300, Train Loss: 79.4284, Val Loss: 86.2255\n"
     ]
    },
    {
     "name": "stderr",
     "output_type": "stream",
     "text": [
      " 28%|██▊       | 83/300 [6:32:23<16:24:59, 272.35s/it]"
     ]
    },
    {
     "name": "stdout",
     "output_type": "stream",
     "text": [
      "Epoch: 83/300, Train Loss: 83.4447, Val Loss: 91.5209\n"
     ]
    },
    {
     "name": "stderr",
     "output_type": "stream",
     "text": [
      " 28%|██▊       | 84/300 [6:36:53<16:17:53, 271.64s/it]"
     ]
    },
    {
     "name": "stdout",
     "output_type": "stream",
     "text": [
      "Epoch: 84/300, Train Loss: 74.4175, Val Loss: 97.4773\n"
     ]
    },
    {
     "name": "stderr",
     "output_type": "stream",
     "text": [
      " 28%|██▊       | 85/300 [6:41:26<16:14:27, 271.94s/it]"
     ]
    },
    {
     "name": "stdout",
     "output_type": "stream",
     "text": [
      "Epoch: 85/300, Train Loss: 74.9819, Val Loss: 104.3024\n"
     ]
    },
    {
     "name": "stderr",
     "output_type": "stream",
     "text": [
      " 29%|██▊       | 86/300 [6:45:59<16:11:37, 272.42s/it]"
     ]
    },
    {
     "name": "stdout",
     "output_type": "stream",
     "text": [
      "Epoch: 86/300, Train Loss: 85.5772, Val Loss: 105.7345\n"
     ]
    },
    {
     "name": "stderr",
     "output_type": "stream",
     "text": [
      " 29%|██▉       | 87/300 [6:50:31<16:06:11, 272.17s/it]"
     ]
    },
    {
     "name": "stdout",
     "output_type": "stream",
     "text": [
      "Epoch: 87/300, Train Loss: 81.1457, Val Loss: 103.3255\n"
     ]
    },
    {
     "name": "stderr",
     "output_type": "stream",
     "text": [
      " 29%|██▉       | 88/300 [6:55:02<16:00:35, 271.87s/it]"
     ]
    },
    {
     "name": "stdout",
     "output_type": "stream",
     "text": [
      "Epoch: 88/300, Train Loss: 79.9484, Val Loss: 99.7289\n"
     ]
    },
    {
     "name": "stderr",
     "output_type": "stream",
     "text": [
      " 30%|██▉       | 89/300 [6:59:34<15:56:28, 271.99s/it]"
     ]
    },
    {
     "name": "stdout",
     "output_type": "stream",
     "text": [
      "Epoch: 89/300, Train Loss: 83.6915, Val Loss: 93.5515\n"
     ]
    },
    {
     "name": "stderr",
     "output_type": "stream",
     "text": [
      " 30%|███       | 90/300 [7:04:04<15:49:19, 271.24s/it]"
     ]
    },
    {
     "name": "stdout",
     "output_type": "stream",
     "text": [
      "Epoch: 90/300, Train Loss: 82.4950, Val Loss: 86.9659\n"
     ]
    },
    {
     "name": "stderr",
     "output_type": "stream",
     "text": [
      " 30%|███       | 91/300 [7:08:34<15:43:30, 270.87s/it]"
     ]
    },
    {
     "name": "stdout",
     "output_type": "stream",
     "text": [
      "Epoch: 91/300, Train Loss: 77.3906, Val Loss: 82.2974\n"
     ]
    },
    {
     "name": "stderr",
     "output_type": "stream",
     "text": [
      " 31%|███       | 92/300 [7:13:09<15:43:19, 272.11s/it]"
     ]
    },
    {
     "name": "stdout",
     "output_type": "stream",
     "text": [
      "Epoch: 92/300, Train Loss: 80.1835, Val Loss: 80.4032\n"
     ]
    },
    {
     "name": "stderr",
     "output_type": "stream",
     "text": [
      " 31%|███       | 93/300 [7:17:43<15:41:06, 272.78s/it]"
     ]
    },
    {
     "name": "stdout",
     "output_type": "stream",
     "text": [
      "Epoch: 93/300, Train Loss: 77.4458, Val Loss: 79.4776\n"
     ]
    },
    {
     "name": "stderr",
     "output_type": "stream",
     "text": [
      " 31%|███▏      | 94/300 [7:22:14<15:34:37, 272.22s/it]"
     ]
    },
    {
     "name": "stdout",
     "output_type": "stream",
     "text": [
      "Epoch: 94/300, Train Loss: 80.6644, Val Loss: 79.8872\n"
     ]
    },
    {
     "name": "stderr",
     "output_type": "stream",
     "text": [
      " 32%|███▏      | 95/300 [7:26:47<15:30:13, 272.26s/it]"
     ]
    },
    {
     "name": "stdout",
     "output_type": "stream",
     "text": [
      "Epoch: 95/300, Train Loss: 77.5226, Val Loss: 80.2868\n"
     ]
    },
    {
     "name": "stderr",
     "output_type": "stream",
     "text": [
      " 32%|███▏      | 96/300 [7:31:17<15:24:00, 271.77s/it]"
     ]
    },
    {
     "name": "stdout",
     "output_type": "stream",
     "text": [
      "Epoch: 96/300, Train Loss: 79.1625, Val Loss: 78.8471\n"
     ]
    },
    {
     "name": "stderr",
     "output_type": "stream",
     "text": [
      " 32%|███▏      | 97/300 [7:35:49<15:19:48, 271.86s/it]"
     ]
    },
    {
     "name": "stdout",
     "output_type": "stream",
     "text": [
      "Epoch: 97/300, Train Loss: 79.7763, Val Loss: 78.1447\n"
     ]
    },
    {
     "name": "stderr",
     "output_type": "stream",
     "text": [
      " 33%|███▎      | 98/300 [7:40:20<15:14:31, 271.64s/it]"
     ]
    },
    {
     "name": "stdout",
     "output_type": "stream",
     "text": [
      "Epoch: 98/300, Train Loss: 82.3925, Val Loss: 78.1987\n"
     ]
    },
    {
     "name": "stderr",
     "output_type": "stream",
     "text": [
      " 33%|███▎      | 99/300 [7:44:50<15:08:21, 271.15s/it]"
     ]
    },
    {
     "name": "stdout",
     "output_type": "stream",
     "text": [
      "Epoch: 99/300, Train Loss: 82.7221, Val Loss: 79.9757\n"
     ]
    },
    {
     "name": "stderr",
     "output_type": "stream",
     "text": [
      " 33%|███▎      | 100/300 [7:49:25<15:07:37, 272.29s/it]"
     ]
    },
    {
     "name": "stdout",
     "output_type": "stream",
     "text": [
      "Epoch: 100/300, Train Loss: 81.8747, Val Loss: 81.2640\n"
     ]
    },
    {
     "name": "stderr",
     "output_type": "stream",
     "text": [
      " 34%|███▎      | 101/300 [7:53:57<15:02:14, 272.03s/it]"
     ]
    },
    {
     "name": "stdout",
     "output_type": "stream",
     "text": [
      "Epoch: 101/300, Train Loss: 89.8167, Val Loss: 79.6146\n"
     ]
    },
    {
     "name": "stderr",
     "output_type": "stream",
     "text": [
      " 34%|███▍      | 102/300 [7:58:28<14:56:37, 271.71s/it]"
     ]
    },
    {
     "name": "stdout",
     "output_type": "stream",
     "text": [
      "Epoch: 102/300, Train Loss: 82.5396, Val Loss: 78.7357\n"
     ]
    },
    {
     "name": "stderr",
     "output_type": "stream",
     "text": [
      " 34%|███▍      | 103/300 [8:03:01<14:53:58, 272.28s/it]"
     ]
    },
    {
     "name": "stdout",
     "output_type": "stream",
     "text": [
      "Epoch: 103/300, Train Loss: 79.2665, Val Loss: 82.0693\n"
     ]
    },
    {
     "name": "stderr",
     "output_type": "stream",
     "text": [
      " 35%|███▍      | 104/300 [8:07:32<14:47:45, 271.76s/it]"
     ]
    },
    {
     "name": "stdout",
     "output_type": "stream",
     "text": [
      "Epoch: 104/300, Train Loss: 84.9241, Val Loss: 96.3133\n"
     ]
    },
    {
     "name": "stderr",
     "output_type": "stream",
     "text": [
      " 35%|███▌      | 105/300 [8:12:03<14:42:37, 271.58s/it]"
     ]
    },
    {
     "name": "stdout",
     "output_type": "stream",
     "text": [
      "Epoch: 105/300, Train Loss: 84.3926, Val Loss: 117.6721\n"
     ]
    },
    {
     "name": "stderr",
     "output_type": "stream",
     "text": [
      " 35%|███▌      | 106/300 [8:16:33<14:36:17, 271.02s/it]"
     ]
    },
    {
     "name": "stdout",
     "output_type": "stream",
     "text": [
      "Epoch: 106/300, Train Loss: 80.1413, Val Loss: 142.7612\n"
     ]
    },
    {
     "name": "stderr",
     "output_type": "stream",
     "text": [
      " 36%|███▌      | 107/300 [8:21:04<14:31:38, 270.98s/it]"
     ]
    },
    {
     "name": "stdout",
     "output_type": "stream",
     "text": [
      "Epoch: 107/300, Train Loss: 84.7115, Val Loss: 150.9806\n"
     ]
    },
    {
     "name": "stderr",
     "output_type": "stream",
     "text": [
      " 36%|███▌      | 108/300 [8:25:34<14:26:40, 270.84s/it]"
     ]
    },
    {
     "name": "stdout",
     "output_type": "stream",
     "text": [
      "Epoch: 108/300, Train Loss: 77.6703, Val Loss: 154.5491\n"
     ]
    },
    {
     "name": "stderr",
     "output_type": "stream",
     "text": [
      " 36%|███▋      | 109/300 [8:30:06<14:22:53, 271.07s/it]"
     ]
    },
    {
     "name": "stdout",
     "output_type": "stream",
     "text": [
      "Epoch: 109/300, Train Loss: 80.2288, Val Loss: 149.7869\n"
     ]
    },
    {
     "name": "stderr",
     "output_type": "stream",
     "text": [
      " 37%|███▋      | 110/300 [8:34:36<14:17:49, 270.89s/it]"
     ]
    },
    {
     "name": "stdout",
     "output_type": "stream",
     "text": [
      "Epoch: 110/300, Train Loss: 83.2990, Val Loss: 128.7516\n"
     ]
    },
    {
     "name": "stderr",
     "output_type": "stream",
     "text": [
      " 37%|███▋      | 111/300 [8:39:06<14:12:36, 270.67s/it]"
     ]
    },
    {
     "name": "stdout",
     "output_type": "stream",
     "text": [
      "Epoch: 111/300, Train Loss: 79.0475, Val Loss: 106.3909\n"
     ]
    },
    {
     "name": "stderr",
     "output_type": "stream",
     "text": [
      " 37%|███▋      | 112/300 [8:43:39<14:09:48, 271.21s/it]"
     ]
    },
    {
     "name": "stdout",
     "output_type": "stream",
     "text": [
      "Epoch: 112/300, Train Loss: 90.4808, Val Loss: 87.2980\n"
     ]
    },
    {
     "name": "stderr",
     "output_type": "stream",
     "text": [
      " 38%|███▊      | 113/300 [8:48:10<14:04:56, 271.10s/it]"
     ]
    },
    {
     "name": "stdout",
     "output_type": "stream",
     "text": [
      "Epoch: 113/300, Train Loss: 83.0441, Val Loss: 79.6303\n"
     ]
    },
    {
     "name": "stderr",
     "output_type": "stream",
     "text": [
      " 38%|███▊      | 114/300 [8:52:41<14:00:49, 271.24s/it]"
     ]
    },
    {
     "name": "stdout",
     "output_type": "stream",
     "text": [
      "Epoch: 114/300, Train Loss: 77.8011, Val Loss: 78.3174\n"
     ]
    },
    {
     "name": "stderr",
     "output_type": "stream",
     "text": [
      " 38%|███▊      | 115/300 [8:57:12<13:55:59, 271.13s/it]"
     ]
    },
    {
     "name": "stdout",
     "output_type": "stream",
     "text": [
      "Epoch: 115/300, Train Loss: 79.2374, Val Loss: 79.3368\n"
     ]
    },
    {
     "name": "stderr",
     "output_type": "stream",
     "text": [
      " 39%|███▊      | 116/300 [9:01:46<13:54:11, 272.02s/it]"
     ]
    },
    {
     "name": "stdout",
     "output_type": "stream",
     "text": [
      "Epoch: 116/300, Train Loss: 75.3720, Val Loss: 81.9034\n"
     ]
    },
    {
     "name": "stderr",
     "output_type": "stream",
     "text": [
      " 39%|███▉      | 117/300 [9:59:06<62:07:45, 1222.22s/it]"
     ]
    },
    {
     "name": "stdout",
     "output_type": "stream",
     "text": [
      "Epoch: 117/300, Train Loss: 82.3423, Val Loss: 82.7154\n"
     ]
    },
    {
     "name": "stderr",
     "output_type": "stream",
     "text": [
      " 39%|███▉      | 118/300 [10:03:31<47:16:47, 935.21s/it]"
     ]
    },
    {
     "name": "stdout",
     "output_type": "stream",
     "text": [
      "Epoch: 118/300, Train Loss: 85.0436, Val Loss: 84.4815\n"
     ]
    },
    {
     "name": "stderr",
     "output_type": "stream",
     "text": [
      " 40%|███▉      | 119/300 [10:08:08<37:05:12, 737.64s/it]"
     ]
    },
    {
     "name": "stdout",
     "output_type": "stream",
     "text": [
      "Epoch: 119/300, Train Loss: 82.3379, Val Loss: 87.2699\n"
     ]
    },
    {
     "name": "stderr",
     "output_type": "stream",
     "text": [
      " 40%|████      | 120/300 [10:12:46<29:59:02, 599.68s/it]"
     ]
    },
    {
     "name": "stdout",
     "output_type": "stream",
     "text": [
      "Epoch: 120/300, Train Loss: 78.8692, Val Loss: 89.1960\n"
     ]
    },
    {
     "name": "stderr",
     "output_type": "stream",
     "text": [
      " 40%|████      | 121/300 [10:17:18<24:55:48, 501.39s/it]"
     ]
    },
    {
     "name": "stdout",
     "output_type": "stream",
     "text": [
      "Epoch: 121/300, Train Loss: 79.2493, Val Loss: 90.0751\n"
     ]
    },
    {
     "name": "stderr",
     "output_type": "stream",
     "text": [
      " 41%|████      | 122/300 [10:22:18<21:48:16, 440.99s/it]"
     ]
    },
    {
     "name": "stdout",
     "output_type": "stream",
     "text": [
      "Epoch: 122/300, Train Loss: 76.4498, Val Loss: 93.0406\n"
     ]
    },
    {
     "name": "stderr",
     "output_type": "stream",
     "text": [
      " 41%|████      | 123/300 [10:27:09<19:28:13, 396.01s/it]"
     ]
    },
    {
     "name": "stdout",
     "output_type": "stream",
     "text": [
      "Epoch: 123/300, Train Loss: 75.6016, Val Loss: 95.6282\n"
     ]
    },
    {
     "name": "stderr",
     "output_type": "stream",
     "text": [
      " 41%|████▏     | 124/300 [10:31:44<17:35:23, 359.79s/it]"
     ]
    },
    {
     "name": "stdout",
     "output_type": "stream",
     "text": [
      "Epoch: 124/300, Train Loss: 75.9873, Val Loss: 98.1434\n"
     ]
    },
    {
     "name": "stderr",
     "output_type": "stream",
     "text": [
      " 42%|████▏     | 125/300 [10:36:20<16:16:11, 334.69s/it]"
     ]
    },
    {
     "name": "stdout",
     "output_type": "stream",
     "text": [
      "Epoch: 125/300, Train Loss: 89.0654, Val Loss: 95.5176\n"
     ]
    },
    {
     "name": "stderr",
     "output_type": "stream",
     "text": [
      " 42%|████▏     | 126/300 [10:40:52<15:16:06, 315.90s/it]"
     ]
    },
    {
     "name": "stdout",
     "output_type": "stream",
     "text": [
      "Epoch: 126/300, Train Loss: 84.9772, Val Loss: 88.4456\n"
     ]
    },
    {
     "name": "stderr",
     "output_type": "stream",
     "text": [
      " 42%|████▏     | 127/300 [10:45:27<14:35:37, 303.68s/it]"
     ]
    },
    {
     "name": "stdout",
     "output_type": "stream",
     "text": [
      "Epoch: 127/300, Train Loss: 79.1205, Val Loss: 83.8111\n"
     ]
    },
    {
     "name": "stderr",
     "output_type": "stream",
     "text": [
      " 43%|████▎     | 128/300 [10:50:00<14:04:05, 294.45s/it]"
     ]
    },
    {
     "name": "stdout",
     "output_type": "stream",
     "text": [
      "Epoch: 128/300, Train Loss: 77.6675, Val Loss: 80.4671\n"
     ]
    },
    {
     "name": "stderr",
     "output_type": "stream",
     "text": [
      " 43%|████▎     | 129/300 [10:54:34<13:41:24, 288.21s/it]"
     ]
    },
    {
     "name": "stdout",
     "output_type": "stream",
     "text": [
      "Epoch: 129/300, Train Loss: 76.1579, Val Loss: 80.2535\n"
     ]
    },
    {
     "name": "stderr",
     "output_type": "stream",
     "text": [
      " 43%|████▎     | 130/300 [10:59:06<13:23:03, 283.43s/it]"
     ]
    },
    {
     "name": "stdout",
     "output_type": "stream",
     "text": [
      "Epoch: 130/300, Train Loss: 86.4346, Val Loss: 80.2775\n"
     ]
    },
    {
     "name": "stderr",
     "output_type": "stream",
     "text": [
      " 44%|████▎     | 131/300 [11:03:42<13:11:43, 281.09s/it]"
     ]
    },
    {
     "name": "stdout",
     "output_type": "stream",
     "text": [
      "Epoch: 131/300, Train Loss: 84.4608, Val Loss: 80.6481\n"
     ]
    },
    {
     "name": "stderr",
     "output_type": "stream",
     "text": [
      " 44%|████▍     | 132/300 [11:08:17<13:02:07, 279.33s/it]"
     ]
    },
    {
     "name": "stdout",
     "output_type": "stream",
     "text": [
      "Epoch: 132/300, Train Loss: 86.3376, Val Loss: 81.1042\n"
     ]
    },
    {
     "name": "stderr",
     "output_type": "stream",
     "text": [
      " 44%|████▍     | 133/300 [11:12:47<12:49:43, 276.55s/it]"
     ]
    },
    {
     "name": "stdout",
     "output_type": "stream",
     "text": [
      "Epoch: 133/300, Train Loss: 77.9199, Val Loss: 81.7880\n"
     ]
    },
    {
     "name": "stderr",
     "output_type": "stream",
     "text": [
      " 45%|████▍     | 134/300 [11:17:18<12:40:31, 274.89s/it]"
     ]
    },
    {
     "name": "stdout",
     "output_type": "stream",
     "text": [
      "Epoch: 134/300, Train Loss: 76.5524, Val Loss: 82.3940\n"
     ]
    },
    {
     "name": "stderr",
     "output_type": "stream",
     "text": [
      " 45%|████▌     | 135/300 [11:21:50<12:33:12, 273.89s/it]"
     ]
    },
    {
     "name": "stdout",
     "output_type": "stream",
     "text": [
      "Epoch: 135/300, Train Loss: 75.3572, Val Loss: 84.0840\n"
     ]
    },
    {
     "name": "stderr",
     "output_type": "stream",
     "text": [
      " 45%|████▌     | 136/300 [11:26:25<12:29:44, 274.29s/it]"
     ]
    },
    {
     "name": "stdout",
     "output_type": "stream",
     "text": [
      "Epoch: 136/300, Train Loss: 81.1920, Val Loss: 85.6986\n"
     ]
    },
    {
     "name": "stderr",
     "output_type": "stream",
     "text": [
      " 46%|████▌     | 137/300 [11:31:03<12:28:40, 275.59s/it]"
     ]
    },
    {
     "name": "stdout",
     "output_type": "stream",
     "text": [
      "Epoch: 137/300, Train Loss: 83.7500, Val Loss: 85.7341\n"
     ]
    },
    {
     "name": "stderr",
     "output_type": "stream",
     "text": [
      " 46%|████▌     | 138/300 [11:35:37<12:22:19, 274.93s/it]"
     ]
    },
    {
     "name": "stdout",
     "output_type": "stream",
     "text": [
      "Epoch: 138/300, Train Loss: 82.3832, Val Loss: 84.3902\n"
     ]
    },
    {
     "name": "stderr",
     "output_type": "stream",
     "text": [
      " 46%|████▋     | 139/300 [11:40:10<12:16:10, 274.35s/it]"
     ]
    },
    {
     "name": "stdout",
     "output_type": "stream",
     "text": [
      "Epoch: 139/300, Train Loss: 78.7909, Val Loss: 82.2478\n"
     ]
    },
    {
     "name": "stderr",
     "output_type": "stream",
     "text": [
      " 47%|████▋     | 140/300 [11:44:42<12:09:46, 273.67s/it]"
     ]
    },
    {
     "name": "stdout",
     "output_type": "stream",
     "text": [
      "Epoch: 140/300, Train Loss: 78.3218, Val Loss: 79.1620\n"
     ]
    },
    {
     "name": "stderr",
     "output_type": "stream",
     "text": [
      " 47%|████▋     | 141/300 [11:49:17<12:06:03, 273.99s/it]"
     ]
    },
    {
     "name": "stdout",
     "output_type": "stream",
     "text": [
      "Epoch: 141/300, Train Loss: 78.8103, Val Loss: 78.8164\n"
     ]
    },
    {
     "name": "stderr",
     "output_type": "stream",
     "text": [
      " 47%|████▋     | 142/300 [11:53:50<12:01:04, 273.83s/it]"
     ]
    },
    {
     "name": "stdout",
     "output_type": "stream",
     "text": [
      "Epoch: 142/300, Train Loss: 73.6836, Val Loss: 79.0389\n"
     ]
    },
    {
     "name": "stderr",
     "output_type": "stream",
     "text": [
      " 48%|████▊     | 143/300 [11:58:22<11:55:21, 273.39s/it]"
     ]
    },
    {
     "name": "stdout",
     "output_type": "stream",
     "text": [
      "Epoch: 143/300, Train Loss: 79.4916, Val Loss: 80.1246\n"
     ]
    },
    {
     "name": "stderr",
     "output_type": "stream",
     "text": [
      " 48%|████▊     | 144/300 [12:02:59<11:53:08, 274.28s/it]"
     ]
    },
    {
     "name": "stdout",
     "output_type": "stream",
     "text": [
      "Epoch: 144/300, Train Loss: 84.9152, Val Loss: 79.5050\n"
     ]
    },
    {
     "name": "stderr",
     "output_type": "stream",
     "text": [
      " 48%|████▊     | 145/300 [12:07:34<11:49:06, 274.49s/it]"
     ]
    },
    {
     "name": "stdout",
     "output_type": "stream",
     "text": [
      "Epoch: 145/300, Train Loss: 80.9292, Val Loss: 78.9941\n"
     ]
    },
    {
     "name": "stderr",
     "output_type": "stream",
     "text": [
      " 49%|████▊     | 146/300 [12:12:11<11:46:16, 275.17s/it]"
     ]
    },
    {
     "name": "stdout",
     "output_type": "stream",
     "text": [
      "Epoch: 146/300, Train Loss: 82.3303, Val Loss: 78.4208\n"
     ]
    },
    {
     "name": "stderr",
     "output_type": "stream",
     "text": [
      " 49%|████▉     | 147/300 [12:16:43<11:39:56, 274.48s/it]"
     ]
    },
    {
     "name": "stdout",
     "output_type": "stream",
     "text": [
      "Epoch: 147/300, Train Loss: 75.9995, Val Loss: 79.3544\n"
     ]
    },
    {
     "name": "stderr",
     "output_type": "stream",
     "text": [
      " 49%|████▉     | 148/300 [12:21:19<11:36:29, 274.93s/it]"
     ]
    },
    {
     "name": "stdout",
     "output_type": "stream",
     "text": [
      "Epoch: 148/300, Train Loss: 82.9721, Val Loss: 82.4869\n"
     ]
    },
    {
     "name": "stderr",
     "output_type": "stream",
     "text": [
      " 50%|████▉     | 149/300 [12:25:53<11:31:02, 274.59s/it]"
     ]
    },
    {
     "name": "stdout",
     "output_type": "stream",
     "text": [
      "Epoch: 149/300, Train Loss: 79.9487, Val Loss: 86.3255\n"
     ]
    },
    {
     "name": "stderr",
     "output_type": "stream",
     "text": [
      " 50%|█████     | 150/300 [12:30:26<11:25:10, 274.07s/it]"
     ]
    },
    {
     "name": "stdout",
     "output_type": "stream",
     "text": [
      "Epoch: 150/300, Train Loss: 78.0019, Val Loss: 89.1884\n"
     ]
    },
    {
     "name": "stderr",
     "output_type": "stream",
     "text": [
      " 50%|█████     | 151/300 [12:35:03<11:22:38, 274.89s/it]"
     ]
    },
    {
     "name": "stdout",
     "output_type": "stream",
     "text": [
      "Epoch: 151/300, Train Loss: 79.1238, Val Loss: 91.9211\n"
     ]
    },
    {
     "name": "stderr",
     "output_type": "stream",
     "text": [
      " 51%|█████     | 152/300 [12:39:35<11:15:45, 273.96s/it]"
     ]
    },
    {
     "name": "stdout",
     "output_type": "stream",
     "text": [
      "Epoch: 152/300, Train Loss: 78.8598, Val Loss: 93.8025\n"
     ]
    },
    {
     "name": "stderr",
     "output_type": "stream",
     "text": [
      " 51%|█████     | 153/300 [12:44:15<11:15:36, 275.76s/it]"
     ]
    },
    {
     "name": "stdout",
     "output_type": "stream",
     "text": [
      "Epoch: 153/300, Train Loss: 84.1276, Val Loss: 94.7379\n"
     ]
    },
    {
     "name": "stderr",
     "output_type": "stream",
     "text": [
      " 51%|█████▏    | 154/300 [12:48:48<11:09:08, 274.99s/it]"
     ]
    },
    {
     "name": "stdout",
     "output_type": "stream",
     "text": [
      "Epoch: 154/300, Train Loss: 85.5410, Val Loss: 92.6135\n"
     ]
    },
    {
     "name": "stderr",
     "output_type": "stream",
     "text": [
      " 52%|█████▏    | 155/300 [12:53:21<11:03:23, 274.51s/it]"
     ]
    },
    {
     "name": "stdout",
     "output_type": "stream",
     "text": [
      "Epoch: 155/300, Train Loss: 74.6368, Val Loss: 90.3052\n"
     ]
    },
    {
     "name": "stderr",
     "output_type": "stream",
     "text": [
      " 52%|█████▏    | 156/300 [12:57:55<10:57:56, 274.14s/it]"
     ]
    },
    {
     "name": "stdout",
     "output_type": "stream",
     "text": [
      "Epoch: 156/300, Train Loss: 78.6562, Val Loss: 86.1767\n"
     ]
    },
    {
     "name": "stderr",
     "output_type": "stream",
     "text": [
      " 52%|█████▏    | 157/300 [13:02:32<10:56:04, 275.28s/it]"
     ]
    },
    {
     "name": "stdout",
     "output_type": "stream",
     "text": [
      "Epoch: 157/300, Train Loss: 86.4900, Val Loss: 83.2555\n"
     ]
    },
    {
     "name": "stderr",
     "output_type": "stream",
     "text": [
      " 53%|█████▎    | 158/300 [13:07:08<10:51:22, 275.23s/it]"
     ]
    },
    {
     "name": "stdout",
     "output_type": "stream",
     "text": [
      "Epoch: 158/300, Train Loss: 77.9838, Val Loss: 80.2783\n"
     ]
    },
    {
     "name": "stderr",
     "output_type": "stream",
     "text": [
      " 53%|█████▎    | 159/300 [13:11:43<10:46:43, 275.20s/it]"
     ]
    },
    {
     "name": "stdout",
     "output_type": "stream",
     "text": [
      "Epoch: 159/300, Train Loss: 77.4215, Val Loss: 78.6547\n"
     ]
    },
    {
     "name": "stderr",
     "output_type": "stream",
     "text": [
      " 53%|█████▎    | 160/300 [13:16:15<10:40:19, 274.42s/it]"
     ]
    },
    {
     "name": "stdout",
     "output_type": "stream",
     "text": [
      "Epoch: 160/300, Train Loss: 80.4699, Val Loss: 77.9964\n"
     ]
    },
    {
     "name": "stderr",
     "output_type": "stream",
     "text": [
      " 54%|█████▎    | 161/300 [13:20:50<10:35:49, 274.45s/it]"
     ]
    },
    {
     "name": "stdout",
     "output_type": "stream",
     "text": [
      "Epoch: 161/300, Train Loss: 82.5062, Val Loss: 79.5090\n"
     ]
    },
    {
     "name": "stderr",
     "output_type": "stream",
     "text": [
      " 54%|█████▍    | 162/300 [13:25:22<10:29:43, 273.79s/it]"
     ]
    },
    {
     "name": "stdout",
     "output_type": "stream",
     "text": [
      "Epoch: 162/300, Train Loss: 84.7250, Val Loss: 86.5360\n"
     ]
    },
    {
     "name": "stderr",
     "output_type": "stream",
     "text": [
      " 54%|█████▍    | 163/300 [13:29:58<10:26:37, 274.43s/it]"
     ]
    },
    {
     "name": "stdout",
     "output_type": "stream",
     "text": [
      "Epoch: 163/300, Train Loss: 82.7819, Val Loss: 97.2126\n"
     ]
    },
    {
     "name": "stderr",
     "output_type": "stream",
     "text": [
      " 55%|█████▍    | 164/300 [13:34:33<10:22:43, 274.73s/it]"
     ]
    },
    {
     "name": "stdout",
     "output_type": "stream",
     "text": [
      "Epoch: 164/300, Train Loss: 78.7830, Val Loss: 109.1776\n"
     ]
    },
    {
     "name": "stderr",
     "output_type": "stream",
     "text": [
      " 55%|█████▌    | 165/300 [13:39:09<10:18:25, 274.86s/it]"
     ]
    },
    {
     "name": "stdout",
     "output_type": "stream",
     "text": [
      "Epoch: 165/300, Train Loss: 82.5563, Val Loss: 109.9006\n"
     ]
    },
    {
     "name": "stderr",
     "output_type": "stream",
     "text": [
      " 55%|█████▌    | 166/300 [13:43:43<10:13:29, 274.70s/it]"
     ]
    },
    {
     "name": "stdout",
     "output_type": "stream",
     "text": [
      "Epoch: 166/300, Train Loss: 81.5590, Val Loss: 104.8415\n"
     ]
    },
    {
     "name": "stderr",
     "output_type": "stream",
     "text": [
      " 56%|█████▌    | 167/300 [13:48:21<10:11:18, 275.77s/it]"
     ]
    },
    {
     "name": "stdout",
     "output_type": "stream",
     "text": [
      "Epoch: 167/300, Train Loss: 77.1505, Val Loss: 102.0727\n"
     ]
    },
    {
     "name": "stderr",
     "output_type": "stream",
     "text": [
      " 56%|█████▌    | 168/300 [13:52:56<10:05:52, 275.40s/it]"
     ]
    },
    {
     "name": "stdout",
     "output_type": "stream",
     "text": [
      "Epoch: 168/300, Train Loss: 77.1031, Val Loss: 96.1402\n"
     ]
    },
    {
     "name": "stderr",
     "output_type": "stream",
     "text": [
      " 56%|█████▋    | 169/300 [13:57:31<10:01:16, 275.39s/it]"
     ]
    },
    {
     "name": "stdout",
     "output_type": "stream",
     "text": [
      "Epoch: 169/300, Train Loss: 76.3904, Val Loss: 94.0788\n"
     ]
    },
    {
     "name": "stderr",
     "output_type": "stream",
     "text": [
      " 57%|█████▋    | 170/300 [14:02:11<9:59:21, 276.62s/it] "
     ]
    },
    {
     "name": "stdout",
     "output_type": "stream",
     "text": [
      "Epoch: 170/300, Train Loss: 85.7263, Val Loss: 87.2410\n"
     ]
    },
    {
     "name": "stderr",
     "output_type": "stream",
     "text": [
      " 57%|█████▋    | 171/300 [14:06:47<9:54:17, 276.41s/it]"
     ]
    },
    {
     "name": "stdout",
     "output_type": "stream",
     "text": [
      "Epoch: 171/300, Train Loss: 79.3014, Val Loss: 83.1271\n"
     ]
    },
    {
     "name": "stderr",
     "output_type": "stream",
     "text": [
      " 57%|█████▋    | 172/300 [14:11:23<9:49:50, 276.49s/it]"
     ]
    },
    {
     "name": "stdout",
     "output_type": "stream",
     "text": [
      "Epoch: 172/300, Train Loss: 78.7531, Val Loss: 81.1463\n"
     ]
    },
    {
     "name": "stderr",
     "output_type": "stream",
     "text": [
      " 58%|█████▊    | 173/300 [14:16:03<9:47:22, 277.50s/it]"
     ]
    },
    {
     "name": "stdout",
     "output_type": "stream",
     "text": [
      "Epoch: 173/300, Train Loss: 80.4547, Val Loss: 81.9172\n"
     ]
    },
    {
     "name": "stderr",
     "output_type": "stream",
     "text": [
      " 58%|█████▊    | 174/300 [14:20:38<9:41:02, 276.68s/it]"
     ]
    },
    {
     "name": "stdout",
     "output_type": "stream",
     "text": [
      "Epoch: 174/300, Train Loss: 87.0515, Val Loss: 82.8119\n"
     ]
    },
    {
     "name": "stderr",
     "output_type": "stream",
     "text": [
      " 58%|█████▊    | 175/300 [14:25:11<9:34:09, 275.60s/it]"
     ]
    },
    {
     "name": "stdout",
     "output_type": "stream",
     "text": [
      "Epoch: 175/300, Train Loss: 76.7136, Val Loss: 84.4677\n"
     ]
    },
    {
     "name": "stderr",
     "output_type": "stream",
     "text": [
      " 59%|█████▊    | 176/300 [14:29:47<9:30:04, 275.85s/it]"
     ]
    },
    {
     "name": "stdout",
     "output_type": "stream",
     "text": [
      "Epoch: 176/300, Train Loss: 80.2701, Val Loss: 85.8360\n"
     ]
    },
    {
     "name": "stderr",
     "output_type": "stream",
     "text": [
      " 59%|█████▉    | 177/300 [14:34:22<9:24:57, 275.59s/it]"
     ]
    },
    {
     "name": "stdout",
     "output_type": "stream",
     "text": [
      "Epoch: 177/300, Train Loss: 82.3185, Val Loss: 88.3132\n"
     ]
    },
    {
     "name": "stderr",
     "output_type": "stream",
     "text": [
      " 59%|█████▉    | 178/300 [14:38:54<9:18:10, 274.51s/it]"
     ]
    },
    {
     "name": "stdout",
     "output_type": "stream",
     "text": [
      "Epoch: 178/300, Train Loss: 78.4908, Val Loss: 88.1718\n"
     ]
    },
    {
     "name": "stderr",
     "output_type": "stream",
     "text": [
      " 60%|█████▉    | 179/300 [14:43:29<9:13:42, 274.57s/it]"
     ]
    },
    {
     "name": "stdout",
     "output_type": "stream",
     "text": [
      "Epoch: 179/300, Train Loss: 76.2880, Val Loss: 85.0575\n"
     ]
    },
    {
     "name": "stderr",
     "output_type": "stream",
     "text": [
      " 60%|██████    | 180/300 [14:48:04<9:09:14, 274.62s/it]"
     ]
    },
    {
     "name": "stdout",
     "output_type": "stream",
     "text": [
      "Epoch: 180/300, Train Loss: 73.5695, Val Loss: 83.5104\n"
     ]
    },
    {
     "name": "stderr",
     "output_type": "stream",
     "text": [
      " 60%|██████    | 181/300 [14:52:40<9:05:51, 275.22s/it]"
     ]
    },
    {
     "name": "stdout",
     "output_type": "stream",
     "text": [
      "Epoch: 181/300, Train Loss: 88.2577, Val Loss: 79.8888\n"
     ]
    },
    {
     "name": "stderr",
     "output_type": "stream",
     "text": [
      " 61%|██████    | 182/300 [14:57:16<9:01:15, 275.21s/it]"
     ]
    },
    {
     "name": "stdout",
     "output_type": "stream",
     "text": [
      "Epoch: 182/300, Train Loss: 73.8855, Val Loss: 78.6654\n"
     ]
    },
    {
     "name": "stderr",
     "output_type": "stream",
     "text": [
      " 61%|██████    | 183/300 [15:01:54<8:58:27, 276.13s/it]"
     ]
    },
    {
     "name": "stdout",
     "output_type": "stream",
     "text": [
      "Epoch: 183/300, Train Loss: 77.9987, Val Loss: 77.8565\n"
     ]
    },
    {
     "name": "stderr",
     "output_type": "stream",
     "text": [
      " 61%|██████▏   | 184/300 [15:06:24<8:50:30, 274.40s/it]"
     ]
    },
    {
     "name": "stdout",
     "output_type": "stream",
     "text": [
      "Epoch: 184/300, Train Loss: 74.8536, Val Loss: 78.1314\n"
     ]
    },
    {
     "name": "stderr",
     "output_type": "stream",
     "text": [
      " 62%|██████▏   | 185/300 [15:10:56<8:44:26, 273.62s/it]"
     ]
    },
    {
     "name": "stdout",
     "output_type": "stream",
     "text": [
      "Epoch: 185/300, Train Loss: 81.7616, Val Loss: 78.5311\n"
     ]
    },
    {
     "name": "stderr",
     "output_type": "stream",
     "text": [
      " 62%|██████▏   | 186/300 [15:15:27<8:38:27, 272.87s/it]"
     ]
    },
    {
     "name": "stdout",
     "output_type": "stream",
     "text": [
      "Epoch: 186/300, Train Loss: 78.8375, Val Loss: 79.6362\n"
     ]
    },
    {
     "name": "stderr",
     "output_type": "stream",
     "text": [
      " 62%|██████▏   | 187/300 [15:20:01<8:34:25, 273.15s/it]"
     ]
    },
    {
     "name": "stdout",
     "output_type": "stream",
     "text": [
      "Epoch: 187/300, Train Loss: 81.4781, Val Loss: 80.7284\n"
     ]
    },
    {
     "name": "stderr",
     "output_type": "stream",
     "text": [
      " 63%|██████▎   | 188/300 [15:24:33<8:29:30, 272.95s/it]"
     ]
    },
    {
     "name": "stdout",
     "output_type": "stream",
     "text": [
      "Epoch: 188/300, Train Loss: 82.0195, Val Loss: 81.1998\n"
     ]
    },
    {
     "name": "stderr",
     "output_type": "stream",
     "text": [
      " 63%|██████▎   | 189/300 [15:29:07<8:25:14, 273.10s/it]"
     ]
    },
    {
     "name": "stdout",
     "output_type": "stream",
     "text": [
      "Epoch: 189/300, Train Loss: 75.2606, Val Loss: 83.7959\n"
     ]
    },
    {
     "name": "stderr",
     "output_type": "stream",
     "text": [
      " 63%|██████▎   | 190/300 [15:33:39<8:20:01, 272.74s/it]"
     ]
    },
    {
     "name": "stdout",
     "output_type": "stream",
     "text": [
      "Epoch: 190/300, Train Loss: 76.6138, Val Loss: 85.8925\n"
     ]
    },
    {
     "name": "stderr",
     "output_type": "stream",
     "text": [
      " 64%|██████▎   | 191/300 [15:38:14<8:17:03, 273.61s/it]"
     ]
    },
    {
     "name": "stdout",
     "output_type": "stream",
     "text": [
      "Epoch: 191/300, Train Loss: 80.4170, Val Loss: 83.5922\n"
     ]
    }
   ],
   "source": [
    "with tqdm.tqdm(total=EPOCHS) as epoch_pbar:\n",
    "    for epoch in range(EPOCHS):\n",
    "        # Training\n",
    "        model.train()\n",
    "        train_losses = []\n",
    "        for x_train_batch, y_train_batch in train_loader:\n",
    "\n",
    "            x_train_batch = x_train_batch.unsqueeze(1)            \n",
    "            x_train_batch = x_train_batch.to(device)\n",
    "            y_train_batch = y_train_batch.to(device)\n",
    "\n",
    "            # Forward Propagation\n",
    "            y_train_pred = model(x_train_batch)\n",
    "\n",
    "            # Calculate Loss\n",
    "            train_loss = loss_fn(y_train_pred, y_train_batch)\n",
    "\n",
    "\n",
    "\n",
    "\n",
    "\n",
    "\n",
    "\n",
    "\n",
    "            train_losses.append(train_loss.item())\n",
    "\n",
    "\n",
    "\n",
    "\n",
    "\n",
    "            # Backpropagation\n",
    "            optimizer.zero_grad()\n",
    "            train_loss.backward()\n",
    "            optimizer.step()\n",
    "\n",
    "        # Validation\n",
    "        model.eval()\n",
    "        val_losses = []\n",
    "        for x_val_batch, y_val_batch in val_loader:\n",
    "            x_val_batch = x_val_batch.unsqueeze(1)\n",
    "            x_val_batch = x_val_batch.to(device)\n",
    "            y_val_batch = y_val_batch.to(device)\n",
    "\n",
    "            # Forward Propagation\n",
    "            y_val_pred = model(x_val_batch)\n",
    "\n",
    "            # Calculate Loss\n",
    "            val_loss = loss_fn(y_val_pred ,y_val_batch)\n",
    "            val_losses.append(val_loss.item())\n",
    "\n",
    "        # Calculate Average Loss\n",
    "        train_loss = np.mean(train_losses)\n",
    "        val_loss = np.mean(val_losses)\n",
    "\n",
    "        # Print Epoch, Loss, and Accuracy\n",
    "        print(f'Epoch: {epoch + 1}/{EPOCHS}, Train Loss: {train_loss:.4f}, Val Loss: {val_loss:.4f}')\n",
    "        model_path = f'model_pytorch_paralal_6_conv_{45+epoch + 1}.pt'\n",
    "        torch.save(model.state_dict(), model_path)\n",
    "\n",
    "        # Log to TensorBoard\n",
    "        writer.add_scalar('Loss/train', train_loss, epoch)\n",
    "        writer.add_scalar('Loss/val', val_loss, epoch)\n",
    "\n",
    "        epoch_pbar.update(1)\n",
    "        \n",
    "\n",
    "\n",
    "\n"
   ]
  },
  {
   "cell_type": "code",
   "execution_count": 8,
   "metadata": {},
   "outputs": [
    {
     "name": "stderr",
     "output_type": "stream",
     "text": [
      "  0%|          | 1/300 [05:08<25:35:04, 308.04s/it]"
     ]
    },
    {
     "name": "stdout",
     "output_type": "stream",
     "text": [
      "Epoch: 1/300, Train Loss: 82.1170, Val Loss: 84.2778\n"
     ]
    },
    {
     "name": "stderr",
     "output_type": "stream",
     "text": [
      "  1%|          | 2/300 [10:15<25:29:08, 307.88s/it]"
     ]
    },
    {
     "name": "stdout",
     "output_type": "stream",
     "text": [
      "Epoch: 2/300, Train Loss: 82.7792, Val Loss: 82.0281\n"
     ]
    },
    {
     "name": "stderr",
     "output_type": "stream",
     "text": [
      "  1%|          | 3/300 [15:26<25:30:49, 309.26s/it]"
     ]
    },
    {
     "name": "stdout",
     "output_type": "stream",
     "text": [
      "Epoch: 3/300, Train Loss: 75.1479, Val Loss: 83.7456\n"
     ]
    },
    {
     "name": "stderr",
     "output_type": "stream",
     "text": [
      "  1%|▏         | 4/300 [20:40<25:35:00, 311.15s/it]"
     ]
    },
    {
     "name": "stdout",
     "output_type": "stream",
     "text": [
      "Epoch: 4/300, Train Loss: 84.3586, Val Loss: 80.0310\n"
     ]
    },
    {
     "name": "stderr",
     "output_type": "stream",
     "text": [
      "  2%|▏         | 5/300 [25:54<25:34:57, 312.20s/it]"
     ]
    },
    {
     "name": "stdout",
     "output_type": "stream",
     "text": [
      "Epoch: 5/300, Train Loss: 73.3785, Val Loss: 80.7776\n"
     ]
    },
    {
     "name": "stderr",
     "output_type": "stream",
     "text": [
      "  2%|▏         | 6/300 [31:12<25:39:03, 314.09s/it]"
     ]
    },
    {
     "name": "stdout",
     "output_type": "stream",
     "text": [
      "Epoch: 6/300, Train Loss: 85.7988, Val Loss: 83.1474\n"
     ]
    },
    {
     "name": "stderr",
     "output_type": "stream",
     "text": [
      "  2%|▏         | 7/300 [36:28<25:37:01, 314.75s/it]"
     ]
    },
    {
     "name": "stdout",
     "output_type": "stream",
     "text": [
      "Epoch: 7/300, Train Loss: 97.6416, Val Loss: 80.6787\n"
     ]
    },
    {
     "name": "stderr",
     "output_type": "stream",
     "text": [
      "  3%|▎         | 8/300 [41:48<25:39:42, 316.38s/it]"
     ]
    },
    {
     "name": "stdout",
     "output_type": "stream",
     "text": [
      "Epoch: 8/300, Train Loss: 82.1147, Val Loss: 78.7464\n"
     ]
    },
    {
     "name": "stderr",
     "output_type": "stream",
     "text": [
      "  3%|▎         | 9/300 [47:06<25:36:50, 316.88s/it]"
     ]
    },
    {
     "name": "stdout",
     "output_type": "stream",
     "text": [
      "Epoch: 9/300, Train Loss: 79.4918, Val Loss: 78.1979\n"
     ]
    },
    {
     "name": "stderr",
     "output_type": "stream",
     "text": [
      "  3%|▎         | 10/300 [52:27<25:37:20, 318.07s/it]"
     ]
    },
    {
     "name": "stdout",
     "output_type": "stream",
     "text": [
      "Epoch: 10/300, Train Loss: 74.1514, Val Loss: 78.5930\n"
     ]
    },
    {
     "name": "stderr",
     "output_type": "stream",
     "text": [
      "  4%|▎         | 11/300 [57:49<25:38:15, 319.36s/it]"
     ]
    },
    {
     "name": "stdout",
     "output_type": "stream",
     "text": [
      "Epoch: 11/300, Train Loss: 77.3267, Val Loss: 79.3635\n"
     ]
    },
    {
     "name": "stderr",
     "output_type": "stream",
     "text": [
      "  4%|▍         | 12/300 [1:03:13<25:39:12, 320.67s/it]"
     ]
    },
    {
     "name": "stdout",
     "output_type": "stream",
     "text": [
      "Epoch: 12/300, Train Loss: 77.7352, Val Loss: 79.7215\n"
     ]
    },
    {
     "name": "stderr",
     "output_type": "stream",
     "text": [
      "  4%|▍         | 13/300 [1:08:42<25:46:56, 323.40s/it]"
     ]
    },
    {
     "name": "stdout",
     "output_type": "stream",
     "text": [
      "Epoch: 13/300, Train Loss: 82.3714, Val Loss: 79.8343\n"
     ]
    },
    {
     "name": "stderr",
     "output_type": "stream",
     "text": [
      "  5%|▍         | 14/300 [1:14:22<26:05:30, 328.43s/it]"
     ]
    },
    {
     "name": "stdout",
     "output_type": "stream",
     "text": [
      "Epoch: 14/300, Train Loss: 74.4359, Val Loss: 80.0746\n"
     ]
    },
    {
     "name": "stderr",
     "output_type": "stream",
     "text": [
      "  5%|▌         | 15/300 [1:20:05<26:19:38, 332.56s/it]"
     ]
    },
    {
     "name": "stdout",
     "output_type": "stream",
     "text": [
      "Epoch: 15/300, Train Loss: 83.8757, Val Loss: 79.1449\n"
     ]
    },
    {
     "name": "stderr",
     "output_type": "stream",
     "text": [
      "  5%|▌         | 16/300 [1:25:54<26:37:35, 337.52s/it]"
     ]
    },
    {
     "name": "stdout",
     "output_type": "stream",
     "text": [
      "Epoch: 16/300, Train Loss: 76.4955, Val Loss: 78.8389\n"
     ]
    },
    {
     "name": "stderr",
     "output_type": "stream",
     "text": [
      "  6%|▌         | 17/300 [1:31:46<26:53:45, 342.14s/it]"
     ]
    },
    {
     "name": "stdout",
     "output_type": "stream",
     "text": [
      "Epoch: 17/300, Train Loss: 79.3907, Val Loss: 78.1483\n"
     ]
    },
    {
     "name": "stderr",
     "output_type": "stream",
     "text": [
      "  6%|▌         | 18/300 [1:37:43<27:08:45, 346.54s/it]"
     ]
    },
    {
     "name": "stdout",
     "output_type": "stream",
     "text": [
      "Epoch: 18/300, Train Loss: 78.1103, Val Loss: 78.0960\n"
     ]
    },
    {
     "name": "stderr",
     "output_type": "stream",
     "text": [
      "  6%|▋         | 19/300 [1:43:44<27:23:09, 350.85s/it]"
     ]
    },
    {
     "name": "stdout",
     "output_type": "stream",
     "text": [
      "Epoch: 19/300, Train Loss: 77.6400, Val Loss: 78.0875\n"
     ]
    },
    {
     "name": "stderr",
     "output_type": "stream",
     "text": [
      "  7%|▋         | 20/300 [1:49:45<27:31:57, 353.99s/it]"
     ]
    },
    {
     "name": "stdout",
     "output_type": "stream",
     "text": [
      "Epoch: 20/300, Train Loss: 76.9592, Val Loss: 78.1536\n"
     ]
    },
    {
     "name": "stderr",
     "output_type": "stream",
     "text": [
      "  7%|▋         | 21/300 [1:55:52<27:43:03, 357.65s/it]"
     ]
    },
    {
     "name": "stdout",
     "output_type": "stream",
     "text": [
      "Epoch: 21/300, Train Loss: 82.1631, Val Loss: 78.5605\n"
     ]
    },
    {
     "name": "stderr",
     "output_type": "stream",
     "text": [
      "  7%|▋         | 22/300 [2:02:03<27:55:44, 361.67s/it]"
     ]
    },
    {
     "name": "stdout",
     "output_type": "stream",
     "text": [
      "Epoch: 22/300, Train Loss: 78.3382, Val Loss: 79.1687\n"
     ]
    },
    {
     "name": "stderr",
     "output_type": "stream",
     "text": [
      "  8%|▊         | 23/300 [2:08:12<28:00:14, 363.95s/it]"
     ]
    },
    {
     "name": "stdout",
     "output_type": "stream",
     "text": [
      "Epoch: 23/300, Train Loss: 75.8412, Val Loss: 79.6858\n"
     ]
    },
    {
     "name": "stderr",
     "output_type": "stream",
     "text": [
      "  8%|▊         | 24/300 [2:14:21<28:00:31, 365.33s/it]"
     ]
    },
    {
     "name": "stdout",
     "output_type": "stream",
     "text": [
      "Epoch: 24/300, Train Loss: 81.2309, Val Loss: 79.2894\n"
     ]
    },
    {
     "name": "stderr",
     "output_type": "stream",
     "text": [
      "  8%|▊         | 25/300 [2:20:25<27:52:45, 364.97s/it]"
     ]
    },
    {
     "name": "stdout",
     "output_type": "stream",
     "text": [
      "Epoch: 25/300, Train Loss: 77.6383, Val Loss: 78.6746\n"
     ]
    },
    {
     "name": "stderr",
     "output_type": "stream",
     "text": [
      "  9%|▊         | 26/300 [2:26:27<27:42:35, 364.07s/it]"
     ]
    },
    {
     "name": "stdout",
     "output_type": "stream",
     "text": [
      "Epoch: 26/300, Train Loss: 77.7015, Val Loss: 78.5684\n"
     ]
    },
    {
     "name": "stderr",
     "output_type": "stream",
     "text": [
      "  9%|▉         | 27/300 [2:32:30<27:35:50, 363.92s/it]"
     ]
    },
    {
     "name": "stdout",
     "output_type": "stream",
     "text": [
      "Epoch: 27/300, Train Loss: 78.4293, Val Loss: 80.0940\n"
     ]
    },
    {
     "name": "stderr",
     "output_type": "stream",
     "text": [
      "  9%|▉         | 28/300 [2:38:32<27:26:52, 363.28s/it]"
     ]
    },
    {
     "name": "stdout",
     "output_type": "stream",
     "text": [
      "Epoch: 28/300, Train Loss: 80.1916, Val Loss: 83.1836\n"
     ]
    },
    {
     "name": "stderr",
     "output_type": "stream",
     "text": [
      " 10%|▉         | 29/300 [2:44:37<27:23:40, 363.91s/it]"
     ]
    },
    {
     "name": "stdout",
     "output_type": "stream",
     "text": [
      "Epoch: 29/300, Train Loss: 80.6678, Val Loss: 86.1178\n"
     ]
    },
    {
     "name": "stderr",
     "output_type": "stream",
     "text": [
      " 10%|█         | 30/300 [2:50:37<27:11:17, 362.51s/it]"
     ]
    },
    {
     "name": "stdout",
     "output_type": "stream",
     "text": [
      "Epoch: 30/300, Train Loss: 79.5414, Val Loss: 88.1197\n"
     ]
    },
    {
     "name": "stderr",
     "output_type": "stream",
     "text": [
      " 10%|█         | 31/300 [8:36:55<484:45:17, 6487.42s/it]"
     ]
    },
    {
     "name": "stdout",
     "output_type": "stream",
     "text": [
      "Epoch: 31/300, Train Loss: 79.9612, Val Loss: 91.5770\n"
     ]
    },
    {
     "name": "stderr",
     "output_type": "stream",
     "text": [
      " 11%|█         | 32/300 [8:42:37<345:41:22, 4643.59s/it]"
     ]
    },
    {
     "name": "stdout",
     "output_type": "stream",
     "text": [
      "Epoch: 32/300, Train Loss: 81.7573, Val Loss: 91.2994\n"
     ]
    },
    {
     "name": "stderr",
     "output_type": "stream",
     "text": [
      " 11%|█         | 33/300 [8:48:52<249:25:52, 3363.12s/it]"
     ]
    },
    {
     "name": "stdout",
     "output_type": "stream",
     "text": [
      "Epoch: 33/300, Train Loss: 79.4025, Val Loss: 88.3727\n"
     ]
    },
    {
     "name": "stderr",
     "output_type": "stream",
     "text": [
      " 11%|█▏        | 34/300 [8:55:23<182:36:17, 2471.34s/it]"
     ]
    },
    {
     "name": "stdout",
     "output_type": "stream",
     "text": [
      "Epoch: 34/300, Train Loss: 79.0500, Val Loss: 84.9141\n"
     ]
    },
    {
     "name": "stderr",
     "output_type": "stream",
     "text": [
      " 12%|█▏        | 35/300 [9:02:31<136:48:47, 1858.59s/it]"
     ]
    },
    {
     "name": "stdout",
     "output_type": "stream",
     "text": [
      "Epoch: 35/300, Train Loss: 79.2629, Val Loss: 81.5855\n"
     ]
    },
    {
     "name": "stderr",
     "output_type": "stream",
     "text": [
      " 12%|█▏        | 36/300 [9:09:11<104:11:25, 1420.78s/it]"
     ]
    },
    {
     "name": "stdout",
     "output_type": "stream",
     "text": [
      "Epoch: 36/300, Train Loss: 79.2929, Val Loss: 80.2412\n"
     ]
    },
    {
     "name": "stderr",
     "output_type": "stream",
     "text": [
      " 12%|█▏        | 37/300 [9:15:55<81:30:40, 1115.74s/it] "
     ]
    },
    {
     "name": "stdout",
     "output_type": "stream",
     "text": [
      "Epoch: 37/300, Train Loss: 81.1412, Val Loss: 81.3269\n"
     ]
    },
    {
     "name": "stderr",
     "output_type": "stream",
     "text": [
      " 13%|█▎        | 38/300 [9:22:45<65:48:00, 904.12s/it] "
     ]
    },
    {
     "name": "stdout",
     "output_type": "stream",
     "text": [
      "Epoch: 38/300, Train Loss: 80.5334, Val Loss: 83.6883\n"
     ]
    },
    {
     "name": "stderr",
     "output_type": "stream",
     "text": [
      " 13%|█▎        | 39/300 [9:29:33<54:44:59, 755.17s/it]"
     ]
    },
    {
     "name": "stdout",
     "output_type": "stream",
     "text": [
      "Epoch: 39/300, Train Loss: 79.4412, Val Loss: 85.3656\n"
     ]
    },
    {
     "name": "stderr",
     "output_type": "stream",
     "text": [
      " 13%|█▎        | 40/300 [9:36:16<46:55:25, 649.72s/it]"
     ]
    },
    {
     "name": "stdout",
     "output_type": "stream",
     "text": [
      "Epoch: 40/300, Train Loss: 82.6861, Val Loss: 82.8045\n"
     ]
    },
    {
     "name": "stderr",
     "output_type": "stream",
     "text": [
      " 14%|█▎        | 41/300 [9:42:35<40:54:19, 568.57s/it]"
     ]
    },
    {
     "name": "stdout",
     "output_type": "stream",
     "text": [
      "Epoch: 41/300, Train Loss: 85.0625, Val Loss: 79.9321\n"
     ]
    },
    {
     "name": "stderr",
     "output_type": "stream",
     "text": [
      " 14%|█▍        | 42/300 [9:48:49<36:32:47, 509.95s/it]"
     ]
    },
    {
     "name": "stdout",
     "output_type": "stream",
     "text": [
      "Epoch: 42/300, Train Loss: 81.3456, Val Loss: 78.6754\n"
     ]
    },
    {
     "name": "stderr",
     "output_type": "stream",
     "text": [
      " 14%|█▍        | 43/300 [9:55:05<33:32:22, 469.81s/it]"
     ]
    },
    {
     "name": "stdout",
     "output_type": "stream",
     "text": [
      "Epoch: 43/300, Train Loss: 79.3025, Val Loss: 79.0868\n"
     ]
    },
    {
     "name": "stderr",
     "output_type": "stream",
     "text": [
      " 15%|█▍        | 44/300 [10:01:37<31:44:41, 446.41s/it]"
     ]
    },
    {
     "name": "stdout",
     "output_type": "stream",
     "text": [
      "Epoch: 44/300, Train Loss: 74.7340, Val Loss: 81.7882\n"
     ]
    },
    {
     "name": "stderr",
     "output_type": "stream",
     "text": [
      " 15%|█▌        | 45/300 [10:08:33<30:59:22, 437.50s/it]"
     ]
    },
    {
     "name": "stdout",
     "output_type": "stream",
     "text": [
      "Epoch: 45/300, Train Loss: 78.8469, Val Loss: 84.9441\n"
     ]
    }
   ],
   "source": [
    "with tqdm.tqdm(total=EPOCHS) as epoch_pbar:\n",
    "    for epoch in range(EPOCHS):\n",
    "        # Training\n",
    "        model.train()\n",
    "        train_losses = []\n",
    "        for x_train_batch, y_train_batch in train_loader:\n",
    "\n",
    "            x_train_batch = x_train_batch.unsqueeze(1)            \n",
    "            x_train_batch = x_train_batch.to(device)\n",
    "            y_train_batch = y_train_batch.to(device)\n",
    "\n",
    "            # Forward Propagation\n",
    "            y_train_pred = model(x_train_batch)\n",
    "\n",
    "            # Calculate Loss\n",
    "            train_loss = loss_fn(y_train_pred, y_train_batch)\n",
    "\n",
    "\n",
    "\n",
    "\n",
    "\n",
    "\n",
    "\n",
    "\n",
    "            train_losses.append(train_loss.item())\n",
    "\n",
    "\n",
    "\n",
    "\n",
    "\n",
    "            # Backpropagation\n",
    "            optimizer.zero_grad()\n",
    "            train_loss.backward()\n",
    "            optimizer.step()\n",
    "\n",
    "        # Validation\n",
    "        model.eval()\n",
    "        val_losses = []\n",
    "        for x_val_batch, y_val_batch in val_loader:\n",
    "            x_val_batch = x_val_batch.unsqueeze(1)\n",
    "            x_val_batch = x_val_batch.to(device)\n",
    "            y_val_batch = y_val_batch.to(device)\n",
    "\n",
    "            # Forward Propagation\n",
    "            y_val_pred = model(x_val_batch)\n",
    "\n",
    "            # Calculate Loss\n",
    "            val_loss = loss_fn(y_val_pred ,y_val_batch)\n",
    "            val_losses.append(val_loss.item())\n",
    "\n",
    "        # Calculate Average Loss\n",
    "        train_loss = np.mean(train_losses)\n",
    "        val_loss = np.mean(val_losses)\n",
    "\n",
    "        # Print Epoch, Loss, and Accuracy\n",
    "        print(f'Epoch: {epoch + 1}/{EPOCHS}, Train Loss: {train_loss:.4f}, Val Loss: {val_loss:.4f}')\n",
    "        model_path = f'model_pytorch_paralal_6_conv_{45+epoch + 1}.pt'\n",
    "        torch.save(model.state_dict(), model_path)\n",
    "\n",
    "        # Log to TensorBoard\n",
    "        writer.add_scalar('Loss/train', train_loss, epoch)\n",
    "        writer.add_scalar('Loss/val', val_loss, epoch)\n",
    "\n",
    "        epoch_pbar.update(1)\n",
    "        \n",
    "\n",
    "\n",
    "\n"
   ]
  },
  {
   "cell_type": "code",
   "execution_count": null,
   "metadata": {},
   "outputs": [],
   "source": []
  },
  {
   "cell_type": "code",
   "execution_count": null,
   "metadata": {},
   "outputs": [],
   "source": []
  },
  {
   "cell_type": "code",
   "execution_count": null,
   "metadata": {},
   "outputs": [],
   "source": [
    "model = nn.Sequential(\n",
    "    nn.Conv1d\n"
   ]
  },
  {
   "cell_type": "code",
   "execution_count": null,
   "metadata": {},
   "outputs": [],
   "source": [
    "#save the model\n",
    "torch.save(model.state_dict(), 'model_pytorch_conv_1.01.pt')"
   ]
  },
  {
   "cell_type": "code",
   "execution_count": null,
   "metadata": {},
   "outputs": [],
   "source": [
    "import torch\n",
    "import torch.optim as optim\n",
    "import torch.nn.functional as F\n",
    "import numpy as np\n",
    "from torch.utils.tensorboard import SummaryWriter\n",
    "import tqdm\n",
    "\n",
    "# Assuming you have defined your model, optimizer, and loss function before this code snippet\n",
    "\n",
    "# Define the number of epochs\n",
    "EPOCHS = 10\n",
    "\n",
    "# Initialize TensorBoard writer\n",
    "writer = SummaryWriter()\n",
    "\n",
    "# Training loop\n",
    "with tqdm.tqdm(total=EPOCHS) as epoch_pbar:\n",
    "    for epoch in range(EPOCHS):\n",
    "        # Training\n",
    "        model.train()\n",
    "        train_losses = []\n",
    "\n",
    "        for x_train_batch, y_train_batch in train_loader:\n",
    "            x_train_batch, y_train_batch = x_train_batch.to(device), y_train_batch.to(device)\n",
    "\n",
    "            # Forward Propagation\n",
    "            y_train_pred = model(x_train_batch)\n",
    "\n",
    "            # Calculate Loss\n",
    "            train_loss = loss_fn(y_train_pred, y_train_batch)  # No need for torch.argmax here\n",
    "            train_losses.append(train_loss.item())\n",
    "\n",
    "            # Backpropagation\n",
    "            optimizer.zero_grad()\n",
    "            train_loss.backward()\n",
    "            optimizer.step()\n",
    "\n",
    "        # Validation\n",
    "        model.eval()\n",
    "        val_losses = []\n",
    "\n",
    "        with torch.no_grad():\n",
    "            for x_val_batch, y_val_batch in val_loader:\n",
    "                x_val_batch, y_val_batch = x_val_batch.to(device), y_val_batch.to(device)\n",
    "\n",
    "                # Forward Propagation\n",
    "                y_val_pred = model(x_val_batch)\n",
    "\n",
    "                # Calculate Loss\n",
    "                val_loss = loss_fn(y_val_pred, y_val_batch)  # No need for torch.argmax here\n",
    "                val_losses.append(val_loss.item())\n",
    "\n",
    "        # Calculate Average Loss\n",
    "        train_loss = np.mean(train_losses)\n",
    "        val_loss = np.mean(val_losses)\n",
    "\n",
    "        # Print Epoch, Loss, and Accuracy\n",
    "        print(f'Epoch: {epoch + 1}/{EPOCHS}, Train Loss: {train_loss:.4f}, Val Loss: {val_loss:.4f}')\n",
    "\n",
    "        # Log to TensorBoard\n",
    "        writer.add_scalar('Loss/train', train_loss, epoch + 1)  # Use epoch + 1 to start from 1\n",
    "        writer.add_scalar('Loss/val', val_loss, epoch + 1)  # Use epoch + 1 to start from 1\n",
    "\n",
    "        # Save the model checkpoint (adjust the path accordingly)\n",
    "        checkpoint_path = f'model_checkpoint_epoch_{epoch + 1}.pt'\n",
    "        torch.save(model.state_dict(), checkpoint_path)\n",
    "\n",
    "        epoch_pbar.update(1)\n"
   ]
  },
  {
   "cell_type": "code",
   "execution_count": null,
   "metadata": {},
   "outputs": [],
   "source": [
    "#save the model\n",
    "torch.save(model.state_dict(), 'model_pytorch_2.pt')"
   ]
  }
 ],
 "metadata": {
  "kernelspec": {
   "display_name": "tf",
   "language": "python",
   "name": "python3"
  },
  "language_info": {
   "codemirror_mode": {
    "name": "ipython",
    "version": 3
   },
   "file_extension": ".py",
   "mimetype": "text/x-python",
   "name": "python",
   "nbconvert_exporter": "python",
   "pygments_lexer": "ipython3",
   "version": "3.8.16"
  }
 },
 "nbformat": 4,
 "nbformat_minor": 2
}
